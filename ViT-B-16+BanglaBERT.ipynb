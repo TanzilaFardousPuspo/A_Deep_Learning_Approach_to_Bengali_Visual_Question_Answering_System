{
 "cells": [
  {
   "cell_type": "code",
   "execution_count": 2,
   "id": "9217fee5",
   "metadata": {},
   "outputs": [],
   "source": [
    "import pandas as pd\n",
    "import numpy as np\n",
    "import os\n",
    "import matplotlib.pyplot as plt\n",
    "from PIL import Image\n",
    "from tensorflow.keras.utils import to_categorical"
   ]
  },
  {
   "cell_type": "code",
   "execution_count": 3,
   "id": "18715586",
   "metadata": {},
   "outputs": [],
   "source": [
    "data = pd.read_csv('vqa_datajjj.csv')\n",
    "\n"
   ]
  },
  {
   "cell_type": "code",
   "execution_count": 4,
   "id": "30373e68",
   "metadata": {},
   "outputs": [
    {
     "name": "stdout",
     "output_type": "stream",
     "text": [
      "['Img\\\\synpic54610.jpg', 'Img\\\\synpic29265.jpg', 'Img\\\\synpic29265.jpg', 'Img\\\\synpic28602.jpg', 'Img\\\\synpic29265.jpg', 'Img\\\\synpic28602.jpg', 'Img\\\\synpic28602.jpg', 'Img\\\\synpic28602.jpg', 'Img\\\\synpic39460.jpg', 'Img\\\\synpic28602.jpg', 'Img\\\\synpic42202.jpg', 'Img\\\\synpic42202.jpg', 'Img\\\\synpic29265.jpg', 'Img\\\\synpic54610.jpg', 'Img\\\\synpic54610.jpg', 'Img\\\\synpic42202.jpg', 'Img\\\\synpic54610.jpg', 'Img\\\\synpic54610.jpg', 'Img\\\\synpic29265.jpg', 'Img\\\\synpic29265.jpg', 'Img\\\\synpic39460.jpg', 'Img\\\\synpic54610.jpg', 'Img\\\\synpic28602.jpg', 'Img\\\\synpic42202.jpg', 'Img\\\\synpic39460.jpg', 'Img\\\\synpic29265.jpg', 'Img\\\\synpic42202.jpg', 'Img\\\\synpic39460.jpg', 'Img\\\\synpic42202.jpg', 'Img\\\\synpic39460.jpg', 'Img\\\\synpic39460.jpg', 'Img\\\\synpic21776.jpg', 'Img\\\\synpic21776.jpg', 'Img\\\\synpic25821.jpg', 'Img\\\\synpic25821.jpg', 'Img\\\\synpic25821.jpg', 'Img\\\\synpic25821.jpg', 'Img\\\\synpic26158.jpg', 'Img\\\\synpic26158.jpg', 'Img\\\\synpic34515.jpg', 'Img\\\\synpic34515.jpg', 'Img\\\\synpic40272.jpg', 'Img\\\\synpic21776.jpg', 'Img\\\\synpic34713.jpg', 'Img\\\\synpic34713.jpg', 'Img\\\\synpic19605.jpg', 'Img\\\\synpic19605.jpg', 'Img\\\\synpic39086.jpg', 'Img\\\\synpic39086.jpg', 'Img\\\\synpic55245.jpg', 'Img\\\\synpic55245.jpg', 'Img\\\\synpic55245.jpg', 'Img\\\\synpic50962.jpg', 'Img\\\\synpic50962.jpg', 'Img\\\\synpic22967.jpg', 'Img\\\\synpic22967.jpg', 'Img\\\\synpic25821.jpg', 'Img\\\\synpic25821.jpg', 'Img\\\\synpic34947.jpg', 'Img\\\\synpic50962.jpg', 'Img\\\\synpic34515.jpg', 'Img\\\\synpic34515.jpg', 'Img\\\\synpic25534.jpg', 'Img\\\\synpic25534.jpg', 'Img\\\\synpic30324.jpg', 'Img\\\\synpic30324.jpg', 'Img\\\\synpic39088.jpg', 'Img\\\\synpic39088.jpg', 'Img\\\\synpic55245.jpg', 'Img\\\\synpic55245.jpg', 'Img\\\\synpic21776.jpg', 'Img\\\\synpic34713.jpg', 'Img\\\\synpic34713.jpg', 'Img\\\\synpic42245.jpg', 'Img\\\\synpic42245.jpg', 'Img\\\\synpic16174.jpg', 'Img\\\\synpic16174.jpg', 'Img\\\\synpic16174.jpg', 'Img\\\\synpic16174.jpg', 'Img\\\\synpic16174.jpg', 'Img\\\\synpic34947.jpg', 'Img\\\\synpic34947.jpg', 'Img\\\\synpic39086.jpg', 'Img\\\\synpic39086.jpg', 'Img\\\\synpic26925.jpg', 'Img\\\\synpic26925.jpg', 'Img\\\\synpic39757.jpg', 'Img\\\\synpic39757.jpg', 'Img\\\\synpic26158.jpg', 'Img\\\\synpic26158.jpg', 'Img\\\\synpic34947.jpg', 'Img\\\\synpic19605.jpg', 'Img\\\\synpic19605.jpg', 'Img\\\\synpic19605.jpg', 'Img\\\\synpic19605.jpg', 'Img\\\\synpic40272.jpg', 'Img\\\\synpic22967.jpg', 'Img\\\\synpic22967.jpg', 'Img\\\\synpic26158.jpg', 'Img\\\\synpic26158.jpg', 'Img\\\\synpic21776.jpg', 'Img\\\\synpic21776.jpg', 'Img\\\\synpic30324.jpg', 'Img\\\\synpic30324.jpg', 'Img\\\\synpic16174.jpg', 'Img\\\\synpic16174.jpg', 'Img\\\\synpic39757.jpg', 'Img\\\\synpic39757.jpg', 'Img\\\\synpic52767.jpg', 'Img\\\\synpic52767.jpg', 'Img\\\\synpic22286.jpg', 'Img\\\\synpic22286.jpg', 'Img\\\\synpic21776.jpg', 'Img\\\\synpic21776.jpg', 'Img\\\\synpic42245.jpg', 'Img\\\\synpic42245.jpg', 'Img\\\\synpic40272.jpg', 'Img\\\\synpic40272.jpg', 'Img\\\\synpic30324.jpg', 'Img\\\\synpic30324.jpg', 'Img\\\\synpic25534.jpg', 'Img\\\\synpic25534.jpg', 'Img\\\\synpic39086.jpg', 'Img\\\\synpic52767.jpg', 'Img\\\\synpic52767.jpg', 'Img\\\\synpic34515.jpg', 'Img\\\\synpic34515.jpg', 'Img\\\\synpic55245.jpg', 'Img\\\\synpic55245.jpg', 'Img\\\\synpic50962.jpg', 'Img\\\\synpic26925.jpg', 'Img\\\\synpic26925.jpg', 'Img\\\\synpic40272.jpg', 'Img\\\\synpic40272.jpg', 'Img\\\\synpic50962.jpg', 'Img\\\\synpic50962.jpg', 'Img\\\\synpic33422.jpg', 'Img\\\\synpic33422.jpg', 'Img\\\\synpic22967.jpg', 'Img\\\\synpic22967.jpg', 'Img\\\\synpic22286.jpg', 'Img\\\\synpic22286.jpg', 'Img\\\\synpic39086.jpg', 'Img\\\\synpic34947.jpg', 'Img\\\\synpic34947.jpg', 'Img\\\\synpic25534.jpg', 'Img\\\\synpic25534.jpg', 'Img\\\\synpic39086.jpg', 'Img\\\\synpic39086.jpg', 'Img\\\\synpic39757.jpg', 'Img\\\\synpic39757.jpg', 'Img\\\\synpic26925.jpg', 'Img\\\\synpic26925.jpg', 'Img\\\\synpic34713.jpg', 'Img\\\\synpic34713.jpg', 'Img\\\\synpic19605.jpg', 'Img\\\\synpic19605.jpg', 'Img\\\\synpic19605.jpg', 'Img\\\\synpic19605.jpg', 'Img\\\\synpic19605.jpg', 'Img\\\\synpic19605.jpg', 'Img\\\\synpic33422.jpg', 'Img\\\\synpic33422.jpg', 'Img\\\\synpic34947.jpg', 'Img\\\\synpic39086.jpg', 'Img\\\\synpic40272.jpg', 'Img\\\\synpic40272.jpg', 'Img\\\\synpic50962.jpg', 'Img\\\\synpic26158.jpg', 'Img\\\\synpic39088.jpg', 'Img\\\\synpic39088.jpg', 'Img\\\\synpic39088.jpg', 'Img\\\\synpic39088.jpg', 'Img\\\\synpic42245.jpg', 'Img\\\\synpic42245.jpg', 'Img\\\\synpic21776.jpg', 'Img\\\\synpic34947.jpg', 'Img\\\\synpic34947.jpg', 'Img\\\\synpic40272.jpg', 'Img\\\\synpic33889.jpg', 'Img\\\\synpic33889.jpg', 'Img\\\\synpic18319.jpg', 'Img\\\\synpic18319.jpg', 'Img\\\\synpic32933.jpg', 'Img\\\\synpic32933.jpg', 'Img\\\\synpic31400.jpg', 'Img\\\\synpic31400.jpg', 'Img\\\\synpic31400.jpg', 'Img\\\\synpic21734.jpg', 'Img\\\\synpic21734.jpg', 'Img\\\\synpic40464.jpg', 'Img\\\\synpic40464.jpg', 'Img\\\\synpic20260.jpg', 'Img\\\\synpic45162.jpg', 'Img\\\\synpic45162.jpg', 'Img\\\\synpic32933.jpg', 'Img\\\\synpic32933.jpg', 'Img\\\\synpic49914.jpg', 'Img\\\\synpic56799.jpg', 'Img\\\\synpic56799.jpg', 'Img\\\\synpic29219.jpg', 'Img\\\\synpic57368.jpg', 'Img\\\\synpic57368.jpg', 'Img\\\\synpic46720.jpg', 'Img\\\\synpic46720.jpg', 'Img\\\\synpic55948.jpg', 'Img\\\\synpic55948.jpg', 'Img\\\\synpic20260.jpg', 'Img\\\\synpic21734.jpg', 'Img\\\\synpic21734.jpg', 'Img\\\\synpic18461.jpg', 'Img\\\\synpic56799.jpg', 'Img\\\\synpic56799.jpg', 'Img\\\\synpic40314.jpg', 'Img\\\\synpic40314.jpg', 'Img\\\\synpic31400.jpg', 'Img\\\\synpic31400.jpg', 'Img\\\\synpic23130.jpg', 'Img\\\\synpic23130.jpg', 'Img\\\\synpic33889.jpg', 'Img\\\\synpic33889.jpg', 'Img\\\\synpic18461.jpg', 'Img\\\\synpic57368.jpg', 'Img\\\\synpic57368.jpg', 'Img\\\\synpic20260.jpg', 'Img\\\\synpic20260.jpg', 'Img\\\\synpic20260.jpg', 'Img\\\\synpic20260.jpg', 'Img\\\\synpic18461.jpg', 'Img\\\\synpic51709.jpg', 'Img\\\\synpic51709.jpg', 'Img\\\\synpic31400.jpg', 'Img\\\\synpic59356.jpg', 'Img\\\\synpic59356.jpg', 'Img\\\\synpic40464.jpg', 'Img\\\\synpic40464.jpg', 'Img\\\\synpic33889.jpg', 'Img\\\\synpic49914.jpg', 'Img\\\\synpic49914.jpg', 'Img\\\\synpic21044.jpg', 'Img\\\\synpic21044.jpg', 'Img\\\\synpic49914.jpg', 'Img\\\\synpic49914.jpg', 'Img\\\\synpic40464.jpg', 'Img\\\\synpic40464.jpg', 'Img\\\\synpic45115.jpg', 'Img\\\\synpic23130.jpg', 'Img\\\\synpic23130.jpg', 'Img\\\\synpic18461.jpg', 'Img\\\\synpic18461.jpg', 'Img\\\\synpic40314.jpg', 'Img\\\\synpic40314.jpg', 'Img\\\\synpic31400.jpg', 'Img\\\\synpic31400.jpg', 'Img\\\\synpic27013.jpg', 'Img\\\\synpic18319.jpg', 'Img\\\\synpic18319.jpg', 'Img\\\\synpic27013.jpg', 'Img\\\\synpic49914.jpg', 'Img\\\\synpic49914.jpg', 'Img\\\\synpic57368.jpg', 'Img\\\\synpic57368.jpg', 'Img\\\\synpic56799.jpg', 'Img\\\\synpic56799.jpg', 'Img\\\\synpic21734.jpg', 'Img\\\\synpic21734.jpg', 'Img\\\\synpic45162.jpg', 'Img\\\\synpic45162.jpg', 'Img\\\\synpic29219.jpg', 'Img\\\\synpic29219.jpg', 'Img\\\\synpic54823.jpg', 'Img\\\\synpic33889.jpg', 'Img\\\\synpic51709.jpg', 'Img\\\\synpic51709.jpg', 'Img\\\\synpic29219.jpg', 'Img\\\\synpic29219.jpg', 'Img\\\\synpic45162.jpg', 'Img\\\\synpic45162.jpg', 'Img\\\\synpic21044.jpg', 'Img\\\\synpic21044.jpg', 'Img\\\\synpic21044.jpg', 'Img\\\\synpic51709.jpg', 'Img\\\\synpic51709.jpg', 'Img\\\\synpic29219.jpg', 'Img\\\\synpic33889.jpg', 'Img\\\\synpic49914.jpg', 'Img\\\\synpic49914.jpg', 'Img\\\\synpic45115.jpg', 'Img\\\\synpic28695.jpg', 'Img\\\\synpic29219.jpg', 'Img\\\\synpic29219.jpg', 'Img\\\\synpic28695.jpg', 'Img\\\\synpic23130.jpg', 'Img\\\\synpic23130.jpg', 'Img\\\\synpic29219.jpg', 'Img\\\\synpic29219.jpg', 'Img\\\\synpic46720.jpg', 'Img\\\\synpic46720.jpg', 'Img\\\\synpic32933.jpg', 'Img\\\\synpic32933.jpg', 'Img\\\\synpic28695.jpg', 'Img\\\\synpic55948.jpg', 'Img\\\\synpic18319.jpg', 'Img\\\\synpic18319.jpg', 'Img\\\\synpic31400.jpg', 'Img\\\\synpic59356.jpg', 'Img\\\\synpic59356.jpg', 'Img\\\\synpic27013.jpg', 'Img\\\\synpic54823.jpg', 'Img\\\\synpic54823.jpg', 'Img\\\\synpic46720.jpg', 'Img\\\\synpic46720.jpg', 'Img\\\\synpic20260.jpg', 'Img\\\\synpic45115.jpg', 'Img\\\\synpic21044.jpg', 'Img\\\\synpic21044.jpg', 'Img\\\\synpic59356.jpg', 'Img\\\\synpic59356.jpg', 'Img\\\\synpic40314.jpg', 'Img\\\\synpic40314.jpg', 'Img\\\\synpic29219.jpg', 'Img\\\\synpic57520.jpg', 'Img\\\\synpic24390.jpg', 'Img\\\\synpic23803.jpg', 'Img\\\\synpic23803.jpg', 'Img\\\\synpic39532.jpg', 'Img\\\\synpic39532.jpg', 'Img\\\\synpic17664.jpg', 'Img\\\\synpic17664.jpg', 'Img\\\\synpic47783.jpg', 'Img\\\\synpic47783.jpg', 'Img\\\\synpic31955.jpg', 'Img\\\\synpic31955.jpg', 'Img\\\\synpic45557.jpg', 'Img\\\\synpic45557.jpg', 'Img\\\\synpic21604.jpg', 'Img\\\\synpic21604.jpg', 'Img\\\\synpic21604.jpg', 'Img\\\\synpic34449.jpg', 'Img\\\\synpic34449.jpg', 'Img\\\\synpic31962.jpg', 'Img\\\\synpic31962.jpg', 'Img\\\\synpic57520.jpg', 'Img\\\\synpic19477.jpg', 'Img\\\\synpic19477.jpg', 'Img\\\\synpic45557.jpg', 'Img\\\\synpic24220.jpg', 'Img\\\\synpic24220.jpg', 'Img\\\\synpic41050.jpg', 'Img\\\\synpic41050.jpg', 'Img\\\\synpic41050.jpg', 'Img\\\\synpic41050.jpg', 'Img\\\\synpic27985.jpg', 'Img\\\\synpic27985.jpg', 'Img\\\\synpic27985.jpg', 'Img\\\\synpic27985.jpg', 'Img\\\\synpic35914.jpg', 'Img\\\\synpic35914.jpg', 'Img\\\\synpic33689.jpg', 'Img\\\\synpic27985.jpg', 'Img\\\\synpic27985.jpg', 'Img\\\\synpic39532.jpg', 'Img\\\\synpic39532.jpg', 'Img\\\\synpic27601.jpg', 'Img\\\\synpic27601.jpg', 'Img\\\\synpic34836.jpg', 'Img\\\\synpic34836.jpg', 'Img\\\\synpic34449.jpg', 'Img\\\\synpic34449.jpg', 'Img\\\\synpic34449.jpg', 'Img\\\\synpic17664.jpg', 'Img\\\\synpic17664.jpg', 'Img\\\\synpic21995.jpg', 'Img\\\\synpic21995.jpg', 'Img\\\\synpic24390.jpg', 'Img\\\\synpic24390.jpg', 'Img\\\\synpic23803.jpg', 'Img\\\\synpic23803.jpg', 'Img\\\\synpic21995.jpg', 'Img\\\\synpic21995.jpg', 'Img\\\\synpic33689.jpg', 'Img\\\\synpic21995.jpg', 'Img\\\\synpic21995.jpg', 'Img\\\\synpic57520.jpg', 'Img\\\\synpic57520.jpg', 'Img\\\\synpic27601.jpg', 'Img\\\\synpic27601.jpg', 'Img\\\\synpic57520.jpg', 'Img\\\\synpic34449.jpg', 'Img\\\\synpic19782.jpg', 'Img\\\\synpic19782.jpg', 'Img\\\\synpic24220.jpg', 'Img\\\\synpic24220.jpg', 'Img\\\\synpic19782.jpg', 'Img\\\\synpic19782.jpg', 'Img\\\\synpic21604.jpg', 'Img\\\\synpic23053.jpg', 'Img\\\\synpic23053.jpg', 'Img\\\\synpic24390.jpg', 'Img\\\\synpic39532.jpg', 'Img\\\\synpic39532.jpg', 'Img\\\\synpic47783.jpg', 'Img\\\\synpic47783.jpg', 'Img\\\\synpic41050.jpg', 'Img\\\\synpic41050.jpg', 'Img\\\\synpic19477.jpg', 'Img\\\\synpic19477.jpg', 'Img\\\\synpic23803.jpg', 'Img\\\\synpic23803.jpg', 'Img\\\\synpic33689.jpg', 'Img\\\\synpic19477.jpg', 'Img\\\\synpic19477.jpg', 'Img\\\\synpic24390.jpg', 'Img\\\\synpic57520.jpg', 'Img\\\\synpic57520.jpg', 'Img\\\\synpic45557.jpg', 'Img\\\\synpic13385.jpg', 'Img\\\\synpic13385.jpg', 'Img\\\\synpic33689.jpg', 'Img\\\\synpic33689.jpg', 'Img\\\\synpic24390.jpg', 'Img\\\\synpic24390.jpg', 'Img\\\\synpic31955.jpg', 'Img\\\\synpic31955.jpg', 'Img\\\\synpic13385.jpg', 'Img\\\\synpic13385.jpg', 'Img\\\\synpic57520.jpg', 'Img\\\\synpic57520.jpg', 'Img\\\\synpic21604.jpg', 'Img\\\\synpic21604.jpg', 'Img\\\\synpic35914.jpg', 'Img\\\\synpic35914.jpg', 'Img\\\\synpic47783.jpg', 'Img\\\\synpic47783.jpg', 'Img\\\\synpic31962.jpg', 'Img\\\\synpic31962.jpg', 'Img\\\\synpic24390.jpg', 'Img\\\\synpic24390.jpg', 'Img\\\\synpic45557.jpg', 'Img\\\\synpic45557.jpg', 'Img\\\\synpic34449.jpg', 'Img\\\\synpic34449.jpg', 'Img\\\\synpic21604.jpg', 'Img\\\\synpic23053.jpg', 'Img\\\\synpic23053.jpg', 'Img\\\\synpic13385.jpg', 'Img\\\\synpic13385.jpg', 'Img\\\\synpic31955.jpg', 'Img\\\\synpic31955.jpg', 'Img\\\\synpic34449.jpg', 'Img\\\\synpic24220.jpg', 'Img\\\\synpic24220.jpg', 'Img\\\\synpic23053.jpg', 'Img\\\\synpic23053.jpg', 'Img\\\\synpic35914.jpg', 'Img\\\\synpic35914.jpg', 'Img\\\\synpic45557.jpg', 'Img\\\\synpic31962.jpg', 'Img\\\\synpic31962.jpg', 'Img\\\\synpic45557.jpg', 'Img\\\\synpic45557.jpg', 'Img\\\\synpic33844.jpg', 'Img\\\\synpic49381.jpg', 'Img\\\\synpic21902.jpg', 'Img\\\\synpic58261.jpg', 'Img\\\\synpic39240.jpg', 'Img\\\\synpic50949.jpg', 'Img\\\\synpic21902.jpg', 'Img\\\\synpic24319.jpg', 'Img\\\\synpic53978.jpg', 'Img\\\\synpic31916.jpg', 'Img\\\\synpic60096.jpg', 'Img\\\\synpic53978.jpg', 'Img\\\\synpic24538.jpg', 'Img\\\\synpic19118.jpg', 'Img\\\\synpic52951.jpg', 'Img\\\\synpic42182.jpg', 'Img\\\\synpic54795.jpg', 'Img\\\\synpic19118.jpg', 'Img\\\\synpic52951.jpg', 'Img\\\\synpic60096.jpg', 'Img\\\\synpic24538.jpg', 'Img\\\\synpic39240.jpg', 'Img\\\\synpic47737.jpg', 'Img\\\\synpic52951.jpg', 'Img\\\\synpic34017.jpg', 'Img\\\\synpic47356.jpg', 'Img\\\\synpic60096.jpg', 'Img\\\\synpic53978.jpg', 'Img\\\\synpic24319.jpg', 'Img\\\\synpic31916.jpg', 'Img\\\\synpic52951.jpg', 'Img\\\\synpic41788.jpg', 'Img\\\\synpic41772.jpg', 'Img\\\\synpic33844.jpg', 'Img\\\\synpic39240.jpg', 'Img\\\\synpic52951.jpg', 'Img\\\\synpic33844.jpg', 'Img\\\\synpic50949.jpg', 'Img\\\\synpic34017.jpg', 'Img\\\\synpic31916.jpg', 'Img\\\\synpic41772.jpg', 'Img\\\\synpic60096.jpg', 'Img\\\\synpic34017.jpg', 'Img\\\\synpic41788.jpg', 'Img\\\\synpic47737.jpg', 'Img\\\\synpic21410.jpg', 'Img\\\\synpic58261.jpg', 'Img\\\\synpic39240.jpg', 'Img\\\\synpic19118.jpg', 'Img\\\\synpic31916.jpg', 'Img\\\\synpic31916.jpg', 'Img\\\\synpic47356.jpg', 'Img\\\\synpic21410.jpg', 'Img\\\\synpic50949.jpg', 'Img\\\\synpic52951.jpg', 'Img\\\\synpic60096.jpg', 'Img\\\\synpic24319.jpg', 'Img\\\\synpic41772.jpg', 'Img\\\\synpic58261.jpg', 'Img\\\\synpic21410.jpg', 'Img\\\\synpic53978.jpg', 'Img\\\\synpic49381.jpg', 'Img\\\\synpic54795.jpg', 'Img\\\\synpic50949.jpg', 'Img\\\\synpic42182.jpg', 'Img\\\\synpic50949.jpg', 'Img\\\\synpic39240.jpg', 'Img\\\\synpic21902.jpg', 'Img\\\\synpic60096.jpg', 'Img\\\\synpic54795.jpg', 'Img\\\\synpic50949.jpg', 'Img\\\\synpic47356.jpg', 'Img\\\\synpic47737.jpg', 'Img\\\\synpic53978.jpg', 'Img\\\\synpic31916.jpg', 'Img\\\\synpic24538.jpg', 'Img\\\\synpic42182.jpg', 'Img\\\\synpic49381.jpg', 'Img\\\\synpic41788.jpg', 'Img\\\\synpic39240.jpg', 'Img\\\\synpic53978.jpg', 'Img\\\\synpic33226.jpg', 'Img\\\\synpic33226.jpg', 'Img\\\\synpic50943.jpg', 'Img\\\\synpic50943.jpg', 'Img\\\\synpic42307.jpg', 'Img\\\\synpic42307.jpg', 'Img\\\\synpic44865.jpg', 'Img\\\\synpic44865.jpg', 'Img\\\\synpic16810.jpg', 'Img\\\\synpic50943.jpg', 'Img\\\\synpic50943.jpg', 'Img\\\\synpic43648.jpg', 'Img\\\\synpic43648.jpg', 'Img\\\\synpic40096.jpg', 'Img\\\\synpic28378.jpg', 'Img\\\\synpic28378.jpg', 'Img\\\\synpic40096.jpg', 'Img\\\\synpic33226.jpg', 'Img\\\\synpic60423.jpg', 'Img\\\\synpic60423.jpg', 'Img\\\\synpic46943.jpg', 'Img\\\\synpic46943.jpg', 'Img\\\\synpic43648.jpg', 'Img\\\\synpic60423.jpg', 'Img\\\\synpic60423.jpg', 'Img\\\\synpic48749.jpg', 'Img\\\\synpic48749.jpg', 'Img\\\\synpic48749.jpg', 'Img\\\\synpic48749.jpg', 'Img\\\\synpic46943.jpg', 'Img\\\\synpic40096.jpg', 'Img\\\\synpic40096.jpg', 'Img\\\\synpic16810.jpg', 'Img\\\\synpic27402.jpg', 'Img\\\\synpic27402.jpg', 'Img\\\\synpic42307.jpg', 'Img\\\\synpic42307.jpg', 'Img\\\\synpic43648.jpg', 'Img\\\\synpic43648.jpg', 'Img\\\\synpic50943.jpg', 'Img\\\\synpic50943.jpg', 'Img\\\\synpic16810.jpg', 'Img\\\\synpic16810.jpg', 'Img\\\\synpic25758.jpg', 'Img\\\\synpic33226.jpg', 'Img\\\\synpic33226.jpg', 'Img\\\\synpic31248.jpg', 'Img\\\\synpic31248.jpg', 'Img\\\\synpic40096.jpg', 'Img\\\\synpic33226.jpg', 'Img\\\\synpic43648.jpg', 'Img\\\\synpic25758.jpg', 'Img\\\\synpic46943.jpg', 'Img\\\\synpic16810.jpg', 'Img\\\\synpic30215.jpg', 'Img\\\\synpic30215.jpg', 'Img\\\\synpic57935.jpg', 'Img\\\\synpic57935.jpg', 'Img\\\\synpic46943.jpg', 'Img\\\\synpic46943.jpg', 'Img\\\\synpic47196.jpg', 'Img\\\\synpic47196.jpg', 'Img\\\\synpic60423.jpg', 'Img\\\\synpic60423.jpg', 'Img\\\\synpic46943.jpg', 'Img\\\\synpic38630.jpg', 'Img\\\\synpic38630.jpg', 'Img\\\\synpic25758.jpg', 'Img\\\\synpic25758.jpg', 'Img\\\\synpic25758.jpg', 'Img\\\\synpic28378.jpg', 'Img\\\\synpic28378.jpg', 'Img\\\\synpic27402.jpg', 'Img\\\\synpic27402.jpg', 'Img\\\\synpic44865.jpg', 'Img\\\\synpic44865.jpg', 'Img\\\\synpic31248.jpg', 'Img\\\\synpic31248.jpg', 'Img\\\\synpic30215.jpg', 'Img\\\\synpic30215.jpg', 'Img\\\\synpic57935.jpg', 'Img\\\\synpic57935.jpg', 'Img\\\\synpic32136.jpg', 'Img\\\\synpic32136.jpg', 'Img\\\\synpic25758.jpg', 'Img\\\\synpic25758.jpg', 'Img\\\\synpic33226.jpg', 'Img\\\\synpic33226.jpg', 'Img\\\\synpic43648.jpg', 'Img\\\\synpic47196.jpg', 'Img\\\\synpic47196.jpg', 'Img\\\\synpic33226.jpg', 'Img\\\\synpic40096.jpg', 'Img\\\\synpic40096.jpg', 'Img\\\\synpic44865.jpg', 'Img\\\\synpic44865.jpg', 'Img\\\\synpic38263.jpg', 'Img\\\\synpic38263.jpg', 'Img\\\\synpic46943.jpg', 'Img\\\\synpic46943.jpg', 'Img\\\\synpic49027.jpg', 'Img\\\\synpic49027.jpg', 'Img\\\\synpic41325.jpg', 'Img\\\\synpic41325.jpg', 'Img\\\\synpic22037.jpg', 'Img\\\\synpic22037.jpg', 'Img\\\\synpic32962.jpg', 'Img\\\\synpic32962.jpg', 'Img\\\\synpic32962.jpg', 'Img\\\\synpic32962.jpg', 'Img\\\\synpic18651.jpg', 'Img\\\\synpic18651.jpg', 'Img\\\\synpic18651.jpg', 'Img\\\\synpic18651.jpg', 'Img\\\\synpic46976.jpg', 'Img\\\\synpic46976.jpg', 'Img\\\\synpic32962.jpg', 'Img\\\\synpic51926.jpg', 'Img\\\\synpic51926.jpg', 'Img\\\\synpic24424.jpg', 'Img\\\\synpic24424.jpg', 'Img\\\\synpic51383.jpg', 'Img\\\\synpic46539.jpg', 'Img\\\\synpic46539.jpg', 'Img\\\\synpic39301.jpg', 'Img\\\\synpic39301.jpg', 'Img\\\\synpic51872.jpg', 'Img\\\\synpic51872.jpg', 'Img\\\\synpic43433.jpg', 'Img\\\\synpic43433.jpg', 'Img\\\\synpic39301.jpg', 'Img\\\\synpic39301.jpg', 'Img\\\\synpic49027.jpg', 'Img\\\\synpic49027.jpg', 'Img\\\\synpic24424.jpg', 'Img\\\\synpic24424.jpg', 'Img\\\\synpic51383.jpg', 'Img\\\\synpic40596.jpg', 'Img\\\\synpic40596.jpg', 'Img\\\\synpic44995.jpg', 'Img\\\\synpic44995.jpg', 'Img\\\\synpic39301.jpg', 'Img\\\\synpic39301.jpg', 'Img\\\\synpic31259.jpg', 'Img\\\\synpic31259.jpg', 'Img\\\\synpic18651.jpg', 'Img\\\\synpic18651.jpg', 'Img\\\\synpic23989.jpg', 'Img\\\\synpic39301.jpg', 'Img\\\\synpic56388.jpg', 'Img\\\\synpic56388.jpg', 'Img\\\\synpic27597.jpg', 'Img\\\\synpic27597.jpg', 'Img\\\\synpic43433.jpg', 'Img\\\\synpic43433.jpg', 'Img\\\\synpic46539.jpg', 'Img\\\\synpic46539.jpg', 'Img\\\\synpic22037.jpg', 'Img\\\\synpic51383.jpg', 'Img\\\\synpic55464.jpg', 'Img\\\\synpic55464.jpg', 'Img\\\\synpic23989.jpg', 'Img\\\\synpic39301.jpg', 'Img\\\\synpic32962.jpg', 'Img\\\\synpic32962.jpg', 'Img\\\\synpic56388.jpg', 'Img\\\\synpic56388.jpg', 'Img\\\\synpic22037.jpg', 'Img\\\\synpic51926.jpg', 'Img\\\\synpic51926.jpg', 'Img\\\\synpic40596.jpg', 'Img\\\\synpic40596.jpg', 'Img\\\\synpic27597.jpg', 'Img\\\\synpic27597.jpg', 'Img\\\\synpic55464.jpg', 'Img\\\\synpic55464.jpg', 'Img\\\\synpic23989.jpg', 'Img\\\\synpic21700.jpg', 'Img\\\\synpic21700.jpg', 'Img\\\\synpic49027.jpg', 'Img\\\\synpic49027.jpg', 'Img\\\\synpic51872.jpg', 'Img\\\\synpic51872.jpg', 'Img\\\\synpic40596.jpg', 'Img\\\\synpic40596.jpg', 'Img\\\\synpic46976.jpg', 'Img\\\\synpic46976.jpg', 'Img\\\\synpic43433.jpg', 'Img\\\\synpic43433.jpg', 'Img\\\\synpic23989.jpg', 'Img\\\\synpic23989.jpg', 'Img\\\\synpic27597.jpg', 'Img\\\\synpic27597.jpg', 'Img\\\\synpic55464.jpg', 'Img\\\\synpic32962.jpg', 'Img\\\\synpic32962.jpg', 'Img\\\\synpic41325.jpg', 'Img\\\\synpic41325.jpg', 'Img\\\\synpic51383.jpg', 'Img\\\\synpic51383.jpg', 'Img\\\\synpic55464.jpg', 'Img\\\\synpic55464.jpg', 'Img\\\\synpic32108.jpg', 'Img\\\\synpic32108.jpg', 'Img\\\\synpic24424.jpg', 'Img\\\\synpic24424.jpg', 'Img\\\\synpic32108.jpg', 'Img\\\\synpic32108.jpg', 'Img\\\\synpic46976.jpg', 'Img\\\\synpic46976.jpg', 'Img\\\\synpic21700.jpg', 'Img\\\\synpic21700.jpg', 'Img\\\\synpic22037.jpg', 'Img\\\\synpic22037.jpg', 'Img\\\\synpic56388.jpg', 'Img\\\\synpic56388.jpg', 'Img\\\\synpic31259.jpg', 'Img\\\\synpic31259.jpg', 'Img\\\\synpic21700.jpg', 'Img\\\\synpic21700.jpg', 'Img\\\\synpic22037.jpg', 'Img\\\\synpic39301.jpg', 'Img\\\\synpic51872.jpg', 'Img\\\\synpic51872.jpg', 'Img\\\\synpic21028.jpg', 'Img\\\\synpic27047.jpg', 'Img\\\\synpic38858.jpg', 'Img\\\\synpic21042.jpg', 'Img\\\\synpic20208.jpg', 'Img\\\\synpic31467.jpg', 'Img\\\\synpic22310.jpg', 'Img\\\\synpic48122.jpg', 'Img\\\\synpic16170.jpg', 'Img\\\\synpic21042.jpg', 'Img\\\\synpic33378.jpg', 'Img\\\\synpic55317.jpg', 'Img\\\\synpic35155.jpg', 'Img\\\\synpic100132.jpg', 'Img\\\\synpic55317.jpg', 'Img\\\\synpic53635.jpg', 'Img\\\\synpic22982.jpg', 'Img\\\\synpic100132.jpg', 'Img\\\\synpic51282.jpg', 'Img\\\\synpic16520.jpg', 'Img\\\\synpic55286.jpg', 'Img\\\\synpic33378.jpg', 'Img\\\\synpic100132.jpg', 'Img\\\\synpic34854.jpg', 'Img\\\\synpic20208.jpg', 'Img\\\\synpic28355.jpg', 'Img\\\\synpic28355.jpg', 'Img\\\\synpic53635.jpg', 'Img\\\\synpic33378.jpg', 'Img\\\\synpic55317.jpg', 'Img\\\\synpic31467.jpg', 'Img\\\\synpic21042.jpg', 'Img\\\\synpic48122.jpg', 'Img\\\\synpic55317.jpg', 'Img\\\\synpic100132.jpg', 'Img\\\\synpic55317.jpg', 'Img\\\\synpic21042.jpg', 'Img\\\\synpic53635.jpg', 'Img\\\\synpic100132.jpg', 'Img\\\\synpic20208.jpg', 'Img\\\\synpic21042.jpg', 'Img\\\\synpic28355.jpg', 'Img\\\\synpic16170.jpg', 'Img\\\\synpic53635.jpg', 'Img\\\\synpic35155.jpg', 'Img\\\\synpic27047.jpg', 'Img\\\\synpic22310.jpg', 'Img\\\\synpic22310.jpg', 'Img\\\\synpic55317.jpg', 'Img\\\\synpic31467.jpg', 'Img\\\\synpic34854.jpg', 'Img\\\\synpic20208.jpg', 'Img\\\\synpic21028.jpg', 'Img\\\\synpic51282.jpg', 'Img\\\\synpic51282.jpg', 'Img\\\\synpic21028.jpg', 'Img\\\\synpic22982.jpg', 'Img\\\\synpic35155.jpg', 'Img\\\\synpic55286.jpg', 'Img\\\\synpic100132.jpg', 'Img\\\\synpic27047.jpg', 'Img\\\\synpic34854.jpg', 'Img\\\\synpic22684.jpg', 'Img\\\\synpic16520.jpg', 'Img\\\\synpic21037.jpg', 'Img\\\\synpic38858.jpg', 'Img\\\\synpic21037.jpg', 'Img\\\\synpic35155.jpg', 'Img\\\\synpic22684.jpg', 'Img\\\\synpic53635.jpg', 'Img\\\\synpic48122.jpg', 'Img\\\\synpic22684.jpg', 'Img\\\\synpic20208.jpg', 'Img\\\\synpic35155.jpg', 'Img\\\\synpic38858.jpg', 'Img\\\\synpic20208.jpg', 'Img\\\\synpic21037.jpg', 'Img\\\\synpic22982.jpg', 'Img\\\\synpic21042.jpg', 'Img\\\\synpic16520.jpg', 'Img\\\\synpic53635.jpg', 'Img\\\\synpic16170.jpg', 'Img\\\\synpic55286.jpg', 'Img\\\\synpic35155.jpg', 'Img\\\\synpic45914.jpg', 'Img\\\\synpic45914.jpg', 'Img\\\\synpic19853.jpg', 'Img\\\\synpic54004.jpg', 'Img\\\\synpic54004.jpg', 'Img\\\\synpic28180.jpg', 'Img\\\\synpic22156.jpg', 'Img\\\\synpic26248.jpg', 'Img\\\\synpic26248.jpg', 'Img\\\\synpic41119.jpg', 'Img\\\\synpic41119.jpg', 'Img\\\\synpic22156.jpg', 'Img\\\\synpic17848.jpg', 'Img\\\\synpic17848.jpg', 'Img\\\\synpic17848.jpg', 'Img\\\\synpic54802.jpg', 'Img\\\\synpic54802.jpg', 'Img\\\\synpic16407.jpg', 'Img\\\\synpic16407.jpg', 'Img\\\\synpic35191.jpg', 'Img\\\\synpic45634.jpg', 'Img\\\\synpic45634.jpg', 'Img\\\\synpic53033.jpg', 'Img\\\\synpic53033.jpg', 'Img\\\\synpic53033.jpg', 'Img\\\\synpic53033.jpg', 'Img\\\\synpic35191.jpg', 'Img\\\\synpic22097.jpg', 'Img\\\\synpic22097.jpg', 'Img\\\\synpic17848.jpg', 'Img\\\\synpic17848.jpg', 'Img\\\\synpic54004.jpg', 'Img\\\\synpic54004.jpg', 'Img\\\\synpic28180.jpg', 'Img\\\\synpic49862.jpg', 'Img\\\\synpic49862.jpg', 'Img\\\\synpic35191.jpg', 'Img\\\\synpic53097.jpg', 'Img\\\\synpic53097.jpg', 'Img\\\\synpic53097.jpg', 'Img\\\\synpic53097.jpg', 'Img\\\\synpic28180.jpg', 'Img\\\\synpic16407.jpg', 'Img\\\\synpic16407.jpg', 'Img\\\\synpic26248.jpg', 'Img\\\\synpic26248.jpg', 'Img\\\\synpic40520.jpg', 'Img\\\\synpic40520.jpg', 'Img\\\\synpic45914.jpg', 'Img\\\\synpic45914.jpg', 'Img\\\\synpic54802.jpg', 'Img\\\\synpic54802.jpg', 'Img\\\\synpic22156.jpg', 'Img\\\\synpic57813.jpg', 'Img\\\\synpic57813.jpg', 'Img\\\\synpic17693.jpg', 'Img\\\\synpic17693.jpg', 'Img\\\\synpic54004.jpg', 'Img\\\\synpic54004.jpg', 'Img\\\\synpic41119.jpg', 'Img\\\\synpic41119.jpg', 'Img\\\\synpic22097.jpg', 'Img\\\\synpic22097.jpg', 'Img\\\\synpic53033.jpg', 'Img\\\\synpic53033.jpg', 'Img\\\\synpic19853.jpg', 'Img\\\\synpic45634.jpg', 'Img\\\\synpic45634.jpg', 'Img\\\\synpic54802.jpg', 'Img\\\\synpic54802.jpg', 'Img\\\\synpic57813.jpg', 'Img\\\\synpic57813.jpg', 'Img\\\\synpic17848.jpg', 'Img\\\\synpic40520.jpg', 'Img\\\\synpic40520.jpg', 'Img\\\\synpic52732.jpg', 'Img\\\\synpic52732.jpg', 'Img\\\\synpic52732.jpg', 'Img\\\\synpic52732.jpg', 'Img\\\\synpic45634.jpg', 'Img\\\\synpic45634.jpg', 'Img\\\\synpic59131.jpg', 'Img\\\\synpic17848.jpg', 'Img\\\\synpic59131.jpg', 'Img\\\\synpic59131.jpg', 'Img\\\\synpic59131.jpg', 'Img\\\\synpic59131.jpg', 'Img\\\\synpic57813.jpg', 'Img\\\\synpic57813.jpg', 'Img\\\\synpic19853.jpg', 'Img\\\\synpic41119.jpg', 'Img\\\\synpic41119.jpg', 'Img\\\\synpic35191.jpg', 'Img\\\\synpic35191.jpg', 'Img\\\\synpic22097.jpg', 'Img\\\\synpic22097.jpg', 'Img\\\\synpic49862.jpg', 'Img\\\\synpic49862.jpg', 'Img\\\\synpic40520.jpg', 'Img\\\\synpic40520.jpg', 'Img\\\\synpic16407.jpg', 'Img\\\\synpic16407.jpg', 'Img\\\\synpic26248.jpg', 'Img\\\\synpic26248.jpg', 'Img\\\\synpic45914.jpg', 'Img\\\\synpic45914.jpg', 'Img\\\\synpic53097.jpg', 'Img\\\\synpic53097.jpg', 'Img\\\\synpic18896.jpg', 'Img\\\\synpic18896.jpg', 'Img\\\\synpic23631.jpg', 'Img\\\\synpic23631.jpg', 'Img\\\\synpic23631.jpg', 'Img\\\\synpic60254.jpg', 'Img\\\\synpic37605.jpg', 'Img\\\\synpic37605.jpg', 'Img\\\\synpic46062.jpg', 'Img\\\\synpic46062.jpg', 'Img\\\\synpic31394.jpg', 'Img\\\\synpic60254.jpg', 'Img\\\\synpic52828.jpg', 'Img\\\\synpic52828.jpg', 'Img\\\\synpic32970.jpg', 'Img\\\\synpic32970.jpg', 'Img\\\\synpic32970.jpg', 'Img\\\\synpic32970.jpg', 'Img\\\\synpic17738.jpg', 'Img\\\\synpic17738.jpg', 'Img\\\\synpic27277.jpg', 'Img\\\\synpic27277.jpg', 'Img\\\\synpic46062.jpg', 'Img\\\\synpic46062.jpg', 'Img\\\\synpic42805.jpg', 'Img\\\\synpic42805.jpg', 'Img\\\\synpic17153.jpg', 'Img\\\\synpic17153.jpg', 'Img\\\\synpic30273.jpg', 'Img\\\\synpic30273.jpg', 'Img\\\\synpic31256.jpg', 'Img\\\\synpic31256.jpg', 'Img\\\\synpic46062.jpg', 'Img\\\\synpic46062.jpg', 'Img\\\\synpic31394.jpg', 'Img\\\\synpic57317.jpg', 'Img\\\\synpic17153.jpg', 'Img\\\\synpic17153.jpg', 'Img\\\\synpic51426.jpg', 'Img\\\\synpic51426.jpg', 'Img\\\\synpic60254.jpg', 'Img\\\\synpic60254.jpg', 'Img\\\\synpic57317.jpg', 'Img\\\\synpic24248.jpg', 'Img\\\\synpic24248.jpg', 'Img\\\\synpic51426.jpg', 'Img\\\\synpic51426.jpg', 'Img\\\\synpic18896.jpg', 'Img\\\\synpic18896.jpg', 'Img\\\\synpic60254.jpg', 'Img\\\\synpic60254.jpg', 'Img\\\\synpic37605.jpg', 'Img\\\\synpic37605.jpg', 'Img\\\\synpic31394.jpg', 'Img\\\\synpic30273.jpg', 'Img\\\\synpic30273.jpg', 'Img\\\\synpic27576.jpg', 'Img\\\\synpic27576.jpg', 'Img\\\\synpic27576.jpg', 'Img\\\\synpic27576.jpg', 'Img\\\\synpic37605.jpg', 'Img\\\\synpic37605.jpg', 'Img\\\\synpic51426.jpg', 'Img\\\\synpic59536.jpg', 'Img\\\\synpic59536.jpg', 'Img\\\\synpic52828.jpg', 'Img\\\\synpic52828.jpg', 'Img\\\\synpic17145.jpg', 'Img\\\\synpic17145.jpg', 'Img\\\\synpic53287.jpg', 'Img\\\\synpic53287.jpg', 'Img\\\\synpic23631.jpg', 'Img\\\\synpic57317.jpg', 'Img\\\\synpic57317.jpg', 'Img\\\\synpic56422.jpg', 'Img\\\\synpic56422.jpg', 'Img\\\\synpic59536.jpg', 'Img\\\\synpic59536.jpg', 'Img\\\\synpic17153.jpg', 'Img\\\\synpic17153.jpg', 'Img\\\\synpic53287.jpg', 'Img\\\\synpic53287.jpg', 'Img\\\\synpic31394.jpg', 'Img\\\\synpic31394.jpg', 'Img\\\\synpic51426.jpg', 'Img\\\\synpic27576.jpg', 'Img\\\\synpic27576.jpg', 'Img\\\\synpic42805.jpg', 'Img\\\\synpic42805.jpg', 'Img\\\\synpic31256.jpg', 'Img\\\\synpic31256.jpg', 'Img\\\\synpic51426.jpg', 'Img\\\\synpic51426.jpg', 'Img\\\\synpic17738.jpg', 'Img\\\\synpic30273.jpg', 'Img\\\\synpic30273.jpg', 'Img\\\\synpic56422.jpg', 'Img\\\\synpic56422.jpg', 'Img\\\\synpic42805.jpg', 'Img\\\\synpic42805.jpg', 'Img\\\\synpic57317.jpg', 'Img\\\\synpic57317.jpg', 'Img\\\\synpic60254.jpg', 'Img\\\\synpic60254.jpg', 'Img\\\\synpic17738.jpg', 'Img\\\\synpic17738.jpg', 'Img\\\\synpic23631.jpg', 'Img\\\\synpic57317.jpg', 'Img\\\\synpic57317.jpg', 'Img\\\\synpic57317.jpg', 'Img\\\\synpic60254.jpg', 'Img\\\\synpic52828.jpg', 'Img\\\\synpic52828.jpg', 'Img\\\\synpic17738.jpg', 'Img\\\\synpic17738.jpg', 'Img\\\\synpic17738.jpg', 'Img\\\\synpic32970.jpg', 'Img\\\\synpic32970.jpg', 'Img\\\\synpic31256.jpg', 'Img\\\\synpic31256.jpg', 'Img\\\\synpic17145.jpg', 'Img\\\\synpic17145.jpg', 'Img\\\\synpic24248.jpg', 'Img\\\\synpic24248.jpg', 'Img\\\\synpic51426.jpg', 'Img\\\\synpic17738.jpg', 'Img\\\\synpic23631.jpg', 'Img\\\\synpic23631.jpg', 'Img\\\\synpic53287.jpg', 'Img\\\\synpic53287.jpg', 'Img\\\\synpic31394.jpg', 'Img\\\\synpic31394.jpg', 'Img\\\\synpic33481.jpg', 'Img\\\\synpic33481.jpg', 'Img\\\\synpic29771.jpg', 'Img\\\\synpic29771.jpg', 'Img\\\\synpic20626.jpg', 'Img\\\\synpic20626.jpg', 'Img\\\\synpic46764.jpg', 'Img\\\\synpic46764.jpg', 'Img\\\\synpic22791.jpg', 'Img\\\\synpic22791.jpg', 'Img\\\\synpic47974.jpg', 'Img\\\\synpic47974.jpg', 'Img\\\\synpic38069.jpg', 'Img\\\\synpic38069.jpg', 'Img\\\\synpic37275.jpg', 'Img\\\\synpic33331.jpg', 'Img\\\\synpic33429.jpg', 'Img\\\\synpic33429.jpg', 'Img\\\\synpic16221.jpg', 'Img\\\\synpic38069.jpg', 'Img\\\\synpic38069.jpg', 'Img\\\\synpic22791.jpg', 'Img\\\\synpic22791.jpg', 'Img\\\\synpic22791.jpg', 'Img\\\\synpic22791.jpg', 'Img\\\\synpic38069.jpg', 'Img\\\\synpic38069.jpg', 'Img\\\\synpic17675.jpg', 'Img\\\\synpic17675.jpg', 'Img\\\\synpic33302.jpg', 'Img\\\\synpic33302.jpg', 'Img\\\\synpic16221.jpg', 'Img\\\\synpic16221.jpg', 'Img\\\\synpic29795.jpg', 'Img\\\\synpic29795.jpg', 'Img\\\\synpic33331.jpg', 'Img\\\\synpic33331.jpg', 'Img\\\\synpic33331.jpg', 'Img\\\\synpic24350.jpg', 'Img\\\\synpic24350.jpg', 'Img\\\\synpic45610.jpg', 'Img\\\\synpic45610.jpg', 'Img\\\\synpic16221.jpg', 'Img\\\\synpic16221.jpg', 'Img\\\\synpic37275.jpg', 'Img\\\\synpic37275.jpg', 'Img\\\\synpic16221.jpg', 'Img\\\\synpic29771.jpg', 'Img\\\\synpic29771.jpg', 'Img\\\\synpic46764.jpg', 'Img\\\\synpic46764.jpg', 'Img\\\\synpic33429.jpg', 'Img\\\\synpic33429.jpg', 'Img\\\\synpic17675.jpg', 'Img\\\\synpic33331.jpg', 'Img\\\\synpic33331.jpg', 'Img\\\\synpic33331.jpg', 'Img\\\\synpic33481.jpg', 'Img\\\\synpic50958.jpg', 'Img\\\\synpic50958.jpg', 'Img\\\\synpic50958.jpg', 'Img\\\\synpic28277.jpg', 'Img\\\\synpic28277.jpg', 'Img\\\\synpic20375.jpg', 'Img\\\\synpic20375.jpg', 'Img\\\\synpic33302.jpg', 'Img\\\\synpic33302.jpg', 'Img\\\\synpic37275.jpg', 'Img\\\\synpic37275.jpg', 'Img\\\\synpic59935.jpg', 'Img\\\\synpic59935.jpg', 'Img\\\\synpic34922.jpg', 'Img\\\\synpic34922.jpg', 'Img\\\\synpic29795.jpg', 'Img\\\\synpic29795.jpg', 'Img\\\\synpic59935.jpg', 'Img\\\\synpic59935.jpg', 'Img\\\\synpic37275.jpg', 'Img\\\\synpic37275.jpg', 'Img\\\\synpic33481.jpg', 'Img\\\\synpic16221.jpg', 'Img\\\\synpic16221.jpg', 'Img\\\\synpic20626.jpg', 'Img\\\\synpic20626.jpg', 'Img\\\\synpic50958.jpg', 'Img\\\\synpic46764.jpg', 'Img\\\\synpic46764.jpg', 'Img\\\\synpic17675.jpg', 'Img\\\\synpic34922.jpg', 'Img\\\\synpic34922.jpg', 'Img\\\\synpic50958.jpg', 'Img\\\\synpic50958.jpg', 'Img\\\\synpic16221.jpg', 'Img\\\\synpic50958.jpg', 'Img\\\\synpic33481.jpg', 'Img\\\\synpic33481.jpg', 'Img\\\\synpic29795.jpg', 'Img\\\\synpic29795.jpg', 'Img\\\\synpic28569.jpg', 'Img\\\\synpic28569.jpg', 'Img\\\\synpic20626.jpg', 'Img\\\\synpic20626.jpg', 'Img\\\\synpic59935.jpg', 'Img\\\\synpic59935.jpg', 'Img\\\\synpic37275.jpg', 'Img\\\\synpic29771.jpg', 'Img\\\\synpic29771.jpg', 'Img\\\\synpic45610.jpg', 'Img\\\\synpic45610.jpg', 'Img\\\\synpic45544.jpg', 'Img\\\\synpic45544.jpg', 'Img\\\\synpic28277.jpg', 'Img\\\\synpic28277.jpg', 'Img\\\\synpic33481.jpg', 'Img\\\\synpic28569.jpg', 'Img\\\\synpic28569.jpg', 'Img\\\\synpic20375.jpg', 'Img\\\\synpic20375.jpg', 'Img\\\\synpic33481.jpg', 'Img\\\\synpic33481.jpg', 'Img\\\\synpic24350.jpg', 'Img\\\\synpic24350.jpg', 'Img\\\\synpic47974.jpg', 'Img\\\\synpic47974.jpg', 'Img\\\\synpic56116.jpg', 'Img\\\\synpic56116.jpg', 'Img\\\\synpic34922.jpg', 'Img\\\\synpic34922.jpg', 'Img\\\\synpic45544.jpg', 'Img\\\\synpic45544.jpg', 'Img\\\\synpic17675.jpg', 'Img\\\\synpic17675.jpg', 'Img\\\\synpic57237.jpg', 'Img\\\\synpic57237.jpg', 'Img\\\\synpic17675.jpg', 'Img\\\\synpic37275.jpg', 'Img\\\\synpic33302.jpg', 'Img\\\\synpic33302.jpg', 'Img\\\\synpic26413.jpg', 'Img\\\\synpic26413.jpg', 'Img\\\\synpic28569.jpg', 'Img\\\\synpic28569.jpg', 'Img\\\\synpic50958.jpg', 'Img\\\\synpic50958.jpg', 'Img\\\\synpic24350.jpg', 'Img\\\\synpic24350.jpg', 'Img\\\\synpic45610.jpg', 'Img\\\\synpic45610.jpg', 'Img\\\\synpic40426.jpg', 'Img\\\\synpic27646.jpg', 'Img\\\\synpic27646.jpg', 'Img\\\\synpic53207.jpg', 'Img\\\\synpic53207.jpg', 'Img\\\\synpic55583.jpg', 'Img\\\\synpic55583.jpg', 'Img\\\\synpic40426.jpg', 'Img\\\\synpic40426.jpg', 'Img\\\\synpic31217.jpg', 'Img\\\\synpic19232.jpg', 'Img\\\\synpic19232.jpg', 'Img\\\\synpic48091.jpg', 'Img\\\\synpic48091.jpg', 'Img\\\\synpic45364.jpg', 'Img\\\\synpic45364.jpg', 'Img\\\\synpic55583.jpg', 'Img\\\\synpic55583.jpg', 'Img\\\\synpic27646.jpg', 'Img\\\\synpic51212.jpg', 'Img\\\\synpic51212.jpg', 'Img\\\\synpic51212.jpg', 'Img\\\\synpic31217.jpg', 'Img\\\\synpic31217.jpg', 'Img\\\\synpic32081.jpg', 'Img\\\\synpic32081.jpg', 'Img\\\\synpic55583.jpg', 'Img\\\\synpic53207.jpg', 'Img\\\\synpic51212.jpg', 'Img\\\\synpic51212.jpg', 'Img\\\\synpic24878.jpg', 'Img\\\\synpic24878.jpg', 'Img\\\\synpic53207.jpg', 'Img\\\\synpic53207.jpg', 'Img\\\\synpic31217.jpg', 'Img\\\\synpic31217.jpg', 'Img\\\\synpic40426.jpg', 'Img\\\\synpic45364.jpg', 'Img\\\\synpic45364.jpg', 'Img\\\\synpic47020.jpg', 'Img\\\\synpic47020.jpg', 'Img\\\\synpic27646.jpg', 'Img\\\\synpic27646.jpg', 'Img\\\\synpic18250.jpg', 'Img\\\\synpic18250.jpg', 'Img\\\\synpic29263.jpg', 'Img\\\\synpic29263.jpg', 'Img\\\\synpic31217.jpg', 'Img\\\\synpic19232.jpg', 'Img\\\\synpic19232.jpg', 'Img\\\\synpic31217.jpg', 'Img\\\\synpic31217.jpg', 'Img\\\\synpic18250.jpg', 'Img\\\\synpic18250.jpg', 'Img\\\\synpic32081.jpg', 'Img\\\\synpic32081.jpg', 'Img\\\\synpic48091.jpg', 'Img\\\\synpic48091.jpg', 'Img\\\\synpic51212.jpg', 'Img\\\\synpic34054.jpg', 'Img\\\\synpic34054.jpg', 'Img\\\\synpic34054.jpg', 'Img\\\\synpic34054.jpg', 'Img\\\\synpic29263.jpg', 'Img\\\\synpic29263.jpg', 'Img\\\\synpic47020.jpg', 'Img\\\\synpic47020.jpg', 'Img\\\\synpic51212.jpg', 'Img\\\\synpic29263.jpg', 'Img\\\\synpic29263.jpg', 'Img\\\\synpic55583.jpg', 'Img\\\\synpic55583.jpg', 'Img\\\\synpic53207.jpg', 'Img\\\\synpic55583.jpg', 'Img\\\\synpic24878.jpg', 'Img\\\\synpic24878.jpg', 'Img\\\\synpic27646.jpg', 'Img\\\\synpic48091.jpg', 'Img\\\\synpic48091.jpg', 'Img\\\\synpic31217.jpg', 'Img\\\\synpic47020.jpg', 'Img\\\\synpic47020.jpg', 'Img\\\\synpic40426.jpg', 'Img\\\\synpic27646.jpg', 'Img\\\\synpic40426.jpg', 'Img\\\\synpic40426.jpg', 'Img\\\\synpic45364.jpg', 'Img\\\\synpic45364.jpg', 'Img\\\\synpic53207.jpg', 'Img\\\\synpic53207.jpg', 'Img\\\\synpic34054.jpg', 'Img\\\\synpic34054.jpg', 'Img\\\\synpic24878.jpg', 'Img\\\\synpic24878.jpg', 'Img\\\\synpic53207.jpg', 'Img\\\\synpic27646.jpg', 'Img\\\\synpic27646.jpg', 'Img\\\\synpic40426.jpg', 'Img\\\\synpic40426.jpg', 'Img\\\\synpic55583.jpg', 'Img\\\\synpic31757.jpg', 'Img\\\\synpic31757.jpg', 'Img\\\\synpic25105.jpg', 'Img\\\\synpic22794.jpg', 'Img\\\\synpic22794.jpg', 'Img\\\\synpic42210.jpg', 'Img\\\\synpic42210.jpg', 'Img\\\\synpic23648.jpg', 'Img\\\\synpic54391.jpg', 'Img\\\\synpic54391.jpg', 'Img\\\\synpic28210.jpg', 'Img\\\\synpic28210.jpg', 'Img\\\\synpic100176.jpg', 'Img\\\\synpic100176.jpg', 'Img\\\\synpic56344.jpg', 'Img\\\\synpic56344.jpg', 'Img\\\\synpic52988.jpg', 'Img\\\\synpic52988.jpg', 'Img\\\\synpic53867.jpg', 'Img\\\\synpic53867.jpg', 'Img\\\\synpic24967.jpg', 'Img\\\\synpic24967.jpg', 'Img\\\\synpic54391.jpg', 'Img\\\\synpic54391.jpg', 'Img\\\\synpic28987.jpg', 'Img\\\\synpic28987.jpg', 'Img\\\\synpic25105.jpg', 'Img\\\\synpic42210.jpg', 'Img\\\\synpic42210.jpg', 'Img\\\\synpic33892.jpg', 'Img\\\\synpic33892.jpg', 'Img\\\\synpic28210.jpg', 'Img\\\\synpic28210.jpg', 'Img\\\\synpic52988.jpg', 'Img\\\\synpic52988.jpg', 'Img\\\\synpic45699.jpg', 'Img\\\\synpic45699.jpg', 'Img\\\\synpic100176.jpg', 'Img\\\\synpic100176.jpg', 'Img\\\\synpic23008.jpg', 'Img\\\\synpic32981.jpg', 'Img\\\\synpic32981.jpg', 'Img\\\\synpic12210.jpg', 'Img\\\\synpic12210.jpg', 'Img\\\\synpic28718.jpg', 'Img\\\\synpic28718.jpg', 'Img\\\\synpic52248.jpg', 'Img\\\\synpic52248.jpg', 'Img\\\\synpic56061.jpg', 'Img\\\\synpic56061.jpg', 'Img\\\\synpic25105.jpg', 'Img\\\\synpic25105.jpg', 'Img\\\\synpic23648.jpg', 'Img\\\\synpic23648.jpg', 'Img\\\\synpic56061.jpg', 'Img\\\\synpic56061.jpg', 'Img\\\\synpic100176.jpg', 'Img\\\\synpic100176.jpg', 'Img\\\\synpic52248.jpg', 'Img\\\\synpic52248.jpg', 'Img\\\\synpic28987.jpg', 'Img\\\\synpic28987.jpg', 'Img\\\\synpic31757.jpg', 'Img\\\\synpic31757.jpg', 'Img\\\\synpic28718.jpg', 'Img\\\\synpic54391.jpg', 'Img\\\\synpic54391.jpg', 'Img\\\\synpic24967.jpg', 'Img\\\\synpic27142.jpg', 'Img\\\\synpic27142.jpg', 'Img\\\\synpic22794.jpg', 'Img\\\\synpic22794.jpg', 'Img\\\\synpic23008.jpg', 'Img\\\\synpic24967.jpg', 'Img\\\\synpic24967.jpg', 'Img\\\\synpic24967.jpg', 'Img\\\\synpic27142.jpg', 'Img\\\\synpic27142.jpg', 'Img\\\\synpic45699.jpg', 'Img\\\\synpic45699.jpg', 'Img\\\\synpic53867.jpg', 'Img\\\\synpic53867.jpg', 'Img\\\\synpic25105.jpg', 'Img\\\\synpic25105.jpg', 'Img\\\\synpic23648.jpg', 'Img\\\\synpic28210.jpg', 'Img\\\\synpic28210.jpg', 'Img\\\\synpic24967.jpg', 'Img\\\\synpic45699.jpg', 'Img\\\\synpic45699.jpg', 'Img\\\\synpic31757.jpg', 'Img\\\\synpic31757.jpg', 'Img\\\\synpic31757.jpg', 'Img\\\\synpic31757.jpg', 'Img\\\\synpic31757.jpg', 'Img\\\\synpic31757.jpg', 'Img\\\\synpic12210.jpg', 'Img\\\\synpic12210.jpg', 'Img\\\\synpic56061.jpg', 'Img\\\\synpic56061.jpg', 'Img\\\\synpic42210.jpg', 'Img\\\\synpic42210.jpg', 'Img\\\\synpic28718.jpg', 'Img\\\\synpic23648.jpg', 'Img\\\\synpic28718.jpg', 'Img\\\\synpic28718.jpg', 'Img\\\\synpic56344.jpg', 'Img\\\\synpic56344.jpg', 'Img\\\\synpic33892.jpg', 'Img\\\\synpic33892.jpg', 'Img\\\\synpic33892.jpg', 'Img\\\\synpic33892.jpg', 'Img\\\\synpic28718.jpg', 'Img\\\\synpic25105.jpg', 'Img\\\\synpic32981.jpg', 'Img\\\\synpic32981.jpg', 'Img\\\\synpic52248.jpg', 'Img\\\\synpic52248.jpg', 'Img\\\\synpic24967.jpg', 'Img\\\\synpic24967.jpg', 'Img\\\\synpic23648.jpg', 'Img\\\\synpic23648.jpg', 'Img\\\\synpic53867.jpg', 'Img\\\\synpic53867.jpg', 'Img\\\\synpic42210.jpg', 'Img\\\\synpic25105.jpg', 'Img\\\\synpic25105.jpg', 'Img\\\\synpic52988.jpg', 'Img\\\\synpic52988.jpg', 'Img\\\\synpic23008.jpg', 'Img\\\\synpic23008.jpg', 'Img\\\\synpic23008.jpg', 'Img\\\\synpic31248.jpg', 'Img\\\\synpic52988.jpg', 'Img\\\\synpic32136.jpg', 'Img\\\\synpic19853.jpg', 'Img\\\\synpic52932.jpg', 'Img\\\\synpic60254.jpg', 'Img\\\\synpic15006.jpg', 'Img\\\\synpic31962.jpg', 'Img\\\\synpic31962.jpg', 'Img\\\\synpic46062.jpg', 'Img\\\\synpic32981.jpg', 'Img\\\\synpic17664.jpg', 'Img\\\\synpic17675.jpg', 'Img\\\\synpic22967.jpg', 'Img\\\\synpic22967.jpg', 'Img\\\\synpic49914.jpg', 'Img\\\\synpic33889.jpg', 'Img\\\\synpic22874.jpg', 'Img\\\\synpic57237.jpg', 'Img\\\\synpic54391.jpg', 'Img\\\\synpic42157.jpg', 'Img\\\\synpic33102.jpg', 'Img\\\\synpic46720.jpg', 'Img\\\\synpic42307.jpg', 'Img\\\\synpic45364.jpg', 'Img\\\\synpic59536.jpg', 'Img\\\\synpic18319.jpg', 'Img\\\\synpic40596.jpg', 'Img\\\\synpic27198.jpg', 'Img\\\\synpic34713.jpg', 'Img\\\\synpic45634.jpg', 'Img\\\\synpic9872.jpg', 'Img\\\\synpic38069.jpg', 'Img\\\\synpic51383.jpg', 'Img\\\\synpic47783.jpg', 'Img\\\\synpic47783.jpg', 'Img\\\\synpic34947.jpg', 'Img\\\\synpic51872.jpg', 'Img\\\\synpic27601.jpg', 'Img\\\\synpic27601.jpg', 'Img\\\\synpic676.jpg', 'Img\\\\synpic45162.jpg', 'Img\\\\synpic60543.jpg', 'Img\\\\synpic27277.jpg', 'Img\\\\synpic31757.jpg', 'Img\\\\synpic22037.jpg', 'Img\\\\synpic52767.jpg', 'Img\\\\synpic57368.jpg', 'Img\\\\synpic23631.jpg', 'Img\\\\synpic20260.jpg', 'Img\\\\synpic20260.jpg', 'Img\\\\synpic40520.jpg', 'Img\\\\synpic40426.jpg', 'Img\\\\synpic33481.jpg', 'Img\\\\synpic46943.jpg', 'Img\\\\synpic33331.jpg', 'Img\\\\synpic24248.jpg', 'Img\\\\synpic46976.jpg', 'Img\\\\synpic34515.jpg', 'Img\\\\synpic53287.jpg', 'Img\\\\synpic48714.jpg', 'Img\\\\synpic30273.jpg', 'Img\\\\synpic34922.jpg', 'Img\\\\synpic19477.jpg', 'Img\\\\synpic42290.jpg', 'Img\\\\synpic56799.jpg', 'Img\\\\synpic24350.jpg', 'Img\\\\synpic21044.jpg', 'Img\\\\synpic39757.jpg', 'Img\\\\synpic32933.jpg', 'Img\\\\synpic39141.jpg', 'Img\\\\synpic22286.jpg', 'Img\\\\synpic45039.jpg', 'Img\\\\synpic28210.jpg', 'Img\\\\synpic24878.jpg', 'Img\\\\synpic20375.jpg', 'Img\\\\synpic29048.jpg', 'Img\\\\synpic19782.jpg', 'Img\\\\synpic31400.jpg', 'Img\\\\synpic31400.jpg', 'Img\\\\synpic17153.jpg', 'Img\\\\synpic34054.jpg', 'Img\\\\synpic59935.jpg', 'Img\\\\synpic31256.jpg', 'Img\\\\synpic33689.jpg', 'Img\\\\synpic23008.jpg', 'Img\\\\synpic19232.jpg', 'Img\\\\synpic50962.jpg', 'Img\\\\synpic51212.jpg', 'Img\\\\synpic100228.jpg', 'Img\\\\synpic60831.jpg', 'Img\\\\synpic52248.jpg', 'Img\\\\synpic59131.jpg', 'Img\\\\synpic56061.jpg', 'Img\\\\synpic34836.jpg', 'Img\\\\synpic28378.jpg', 'Img\\\\synpic17145.jpg', 'Img\\\\synpic60703.jpg', 'Img\\\\synpic22791.jpg', 'Img\\\\synpic13385.jpg', 'Img\\\\synpic24729.jpg', 'Img\\\\synpic40464.jpg', 'Img\\\\synpic56841.jpg', 'Img\\\\synpic27576.jpg', 'Img\\\\synpic29795.jpg', 'Img\\\\synpic21776.jpg', 'Img\\\\synpic17693.jpg', 'Img\\\\synpic22828.jpg', 'Img\\\\synpic16221.jpg', 'Img\\\\synpic40500.jpg', 'Img\\\\synpic33302.jpg', 'Img\\\\synpic53033.jpg', 'Img\\\\synpic18461.jpg', 'Img\\\\synpic32727.jpg', 'Img\\\\synpic51926.jpg', 'Img\\\\synpic43609.jpg', 'Img\\\\synpic49862.jpg', 'Img\\\\synpic18896.jpg', 'Img\\\\synpic25105.jpg', 'Img\\\\synpic31955.jpg', 'Img\\\\synpic17738.jpg', 'Img\\\\synpic27646.jpg', 'Img\\\\synpic27402.jpg', 'Img\\\\synpic23989.jpg', 'Img\\\\synpic57317.jpg', 'Img\\\\synpic50848.jpg', 'Img\\\\synpic21604.jpg', 'Img\\\\synpic51709.jpg', 'Img\\\\synpic31116.jpg', 'Img\\\\synpic53207.jpg', 'Img\\\\synpic39088.jpg', 'Img\\\\synpic23648.jpg', 'Img\\\\synpic26158.jpg', 'Img\\\\synpic48091.jpg', 'Img\\\\synpic32081.jpg', 'Img\\\\synpic38630.jpg', 'Img\\\\synpic12210.jpg', 'Img\\\\synpic18651.jpg', 'Img\\\\synpic59356.jpg', 'Img\\\\synpic42210.jpg', 'Img\\\\synpic19605.jpg', 'Img\\\\synpic49027.jpg', 'Img\\\\synpic18250.jpg', 'Img\\\\synpic26248.jpg', 'Img\\\\synpic24967.jpg', 'Img\\\\synpic29263.jpg', 'Img\\\\synpic54004.jpg', 'Img\\\\synpic27655.jpg', 'Img\\\\synpic29771.jpg', 'Img\\\\synpic32108.jpg', 'Img\\\\synpic48749.jpg', 'Img\\\\synpic31217.jpg', 'Img\\\\synpic45544.jpg', 'Img\\\\synpic55245.jpg', 'Img\\\\synpic25534.jpg', 'Img\\\\synpic21734.jpg', 'Img\\\\synpic50958.jpg', 'Img\\\\synpic23803.jpg', 'Img\\\\synpic16174.jpg', 'Img\\\\synpic26413.jpg', 'Img\\\\synpic20626.jpg', 'Img\\\\synpic41325.jpg', 'Img\\\\synpic17848.jpg', 'Img\\\\synpic29219.jpg', 'Img\\\\synpic23571.jpg', 'Img\\\\synpic57935.jpg', 'Img\\\\synpic23053.jpg', 'Img\\\\synpic100176.jpg', 'Img\\\\synpic33422.jpg', 'Img\\\\synpic45699.jpg', 'Img\\\\synpic38531.jpg', 'Img\\\\synpic32970.jpg', 'Img\\\\synpic39301.jpg', 'Img\\\\synpic23130.jpg', 'Img\\\\synpic50943.jpg', 'Img\\\\synpic45914.jpg', 'Img\\\\synpic40096.jpg', 'Img\\\\synpic41667.jpg', 'Img\\\\synpic56344.jpg', 'Img\\\\synpic46764.jpg', 'Img\\\\synpic39532.jpg', 'Img\\\\synpic39086.jpg', 'Img\\\\synpic42245.jpg', 'Img\\\\synpic40314.jpg', 'Img\\\\synpic38263.jpg', 'Img\\\\synpic34449.jpg', 'Img\\\\synpic56116.jpg', 'Img\\\\synpic30324.jpg', 'Img\\\\synpic30215.jpg', 'Img\\\\synpic58902.jpg', 'Img\\\\synpic54802.jpg', 'Img\\\\synpic53574.jpg', 'Img\\\\synpic52732.jpg', 'Img\\\\synpic44865.jpg', 'Img\\\\synpic27985.jpg', 'Img\\\\synpic47196.jpg', 'Img\\\\synpic28987.jpg', 'Img\\\\synpic22156.jpg', 'Img\\\\synpic42805.jpg', 'Img\\\\synpic57520.jpg', 'Img\\\\synpic41050.jpg', 'Img\\\\synpic51426.jpg', 'Img\\\\synpic21995.jpg', 'Img\\\\synpic43648.jpg', 'Img\\\\synpic57813.jpg', 'Img\\\\synpic31394.jpg', 'Img\\\\synpic43433.jpg', 'Img\\\\synpic16810.jpg', 'Img\\\\synpic16407.jpg', 'Img\\\\synpic21700.jpg', 'Img\\\\synpic53816.jpg', 'Img\\\\synpic31928.jpg', 'Img\\\\synpic27597.jpg', 'Img\\\\synpic28569.jpg', 'Img\\\\synpic46539.jpg', 'Img\\\\synpic47191.jpg', 'Img\\\\synpic37605.jpg', 'Img\\\\synpic52828.jpg', 'Img\\\\synpic28277.jpg', 'Img\\\\synpic53097.jpg', 'Img\\\\synpic59126.jpg', 'Img\\\\synpic47964.jpg', 'Img\\\\synpic22097.jpg', 'Img\\\\synpic40272.jpg', 'Img\\\\synpic35191.jpg', 'Img\\\\synpic37275.jpg', 'Img\\\\synpic52282.jpg', 'Img\\\\synpic31259.jpg', 'Img\\\\synpic41119.jpg', 'Img\\\\synpic56422.jpg', 'Img\\\\synpic33429.jpg', 'Img\\\\synpic24220.jpg', 'Img\\\\synpic56388.jpg', 'Img\\\\synpic55948.jpg', 'Img\\\\synpic28180.jpg', 'Img\\\\synpic26925.jpg', 'Img\\\\synpic32012.jpg', 'Img\\\\synpic35914.jpg', 'Img\\\\synpic55583.jpg', 'Img\\\\synpic55464.jpg', 'Img\\\\synpic47974.jpg', 'Img\\\\synpic26697.jpg', 'Img\\\\synpic24424.jpg', 'Img\\\\synpic60423.jpg', 'Img\\\\synpic26764.jpg', 'Img\\\\synpic22020.jpg', 'Img\\\\synpic42951.jpg', 'Img\\\\synpic25587.jpg', 'Img\\\\synpic58547.jpg', 'Img\\\\synpic31232.jpg', 'Img\\\\synpic44995.jpg', 'Img\\\\synpic47020.jpg', 'Img\\\\synpic53228.jpg', 'Img\\\\synpic51774.jpg', 'Img\\\\synpic25821.jpg', 'Img\\\\synpic27142.jpg', 'Img\\\\synpic33226.jpg', 'Img\\\\synpic32962.jpg', 'Img\\\\synpic33892.jpg', 'Img\\\\synpic32084.jpg', 'Img\\\\synpic28718.jpg', 'Img\\\\synpic45557.jpg', 'Img\\\\synpic22794.jpg', 'Img\\\\synpic19114.jpg', 'Img\\\\synpic53867.jpg', 'Img\\\\synpic45610.jpg', 'Img\\\\synpic25758.jpg', 'Img\\\\synpic24390.jpg', 'Img\\\\synpic31232.jpg', 'Img\\\\synpic31232.jpg', 'Img\\\\synpic53816.jpg', 'Img\\\\synpic53816.jpg', 'Img\\\\synpic9872.jpg', 'Img\\\\synpic9872.jpg', 'Img\\\\synpic32084.jpg', 'Img\\\\synpic32084.jpg', 'Img\\\\synpic31232.jpg', 'Img\\\\synpic38531.jpg', 'Img\\\\synpic38531.jpg', 'Img\\\\synpic53816.jpg', 'Img\\\\synpic40500.jpg', 'Img\\\\synpic40500.jpg', 'Img\\\\synpic39141.jpg', 'Img\\\\synpic39141.jpg', 'Img\\\\synpic47964.jpg', 'Img\\\\synpic47964.jpg', 'Img\\\\synpic41667.jpg', 'Img\\\\synpic22828.jpg', 'Img\\\\synpic58902.jpg', 'Img\\\\synpic58902.jpg', 'Img\\\\synpic31232.jpg', 'Img\\\\synpic100228.jpg', 'Img\\\\synpic100228.jpg', 'Img\\\\synpic39141.jpg', 'Img\\\\synpic39141.jpg', 'Img\\\\synpic31232.jpg', 'Img\\\\synpic31232.jpg', 'Img\\\\synpic32084.jpg', 'Img\\\\synpic53228.jpg', 'Img\\\\synpic53228.jpg', 'Img\\\\synpic60703.jpg', 'Img\\\\synpic60703.jpg', 'Img\\\\synpic53816.jpg', 'Img\\\\synpic41667.jpg', 'Img\\\\synpic41667.jpg', 'Img\\\\synpic32084.jpg', 'Img\\\\synpic32084.jpg', 'Img\\\\synpic42290.jpg', 'Img\\\\synpic42290.jpg', 'Img\\\\synpic59126.jpg', 'Img\\\\synpic59126.jpg', 'Img\\\\synpic32084.jpg', 'Img\\\\synpic9872.jpg', 'Img\\\\synpic9872.jpg', 'Img\\\\synpic22828.jpg', 'Img\\\\synpic22828.jpg', 'Img\\\\synpic59126.jpg', 'Img\\\\synpic59126.jpg', 'Img\\\\synpic100228.jpg', 'Img\\\\synpic100228.jpg', 'Img\\\\synpic40500.jpg', 'Img\\\\synpic56841.jpg', 'Img\\\\synpic56841.jpg', 'Img\\\\synpic48714.jpg', 'Img\\\\synpic48714.jpg', 'Img\\\\synpic40500.jpg', 'Img\\\\synpic58902.jpg', 'Img\\\\synpic58902.jpg', 'Img\\\\synpic39141.jpg', 'Img\\\\synpic39141.jpg', 'Img\\\\synpic41667.jpg', 'Img\\\\synpic41667.jpg', 'Img\\\\synpic22828.jpg', 'Img\\\\synpic32727.jpg', 'Img\\\\synpic32727.jpg', 'Img\\\\synpic42290.jpg', 'Img\\\\synpic42290.jpg', 'Img\\\\synpic22020.jpg', 'Img\\\\synpic22020.jpg', 'Img\\\\synpic24729.jpg', 'Img\\\\synpic24729.jpg', 'Img\\\\synpic22828.jpg', 'Img\\\\synpic41667.jpg', 'Img\\\\synpic53228.jpg', 'Img\\\\synpic53228.jpg', 'Img\\\\synpic41667.jpg', 'Img\\\\synpic42157.jpg', 'Img\\\\synpic42157.jpg', 'Img\\\\synpic32084.jpg', 'Img\\\\synpic32084.jpg', 'Img\\\\synpic31232.jpg', 'Img\\\\synpic59126.jpg', 'Img\\\\synpic59126.jpg', 'Img\\\\synpic41667.jpg', 'Img\\\\synpic41667.jpg', 'Img\\\\synpic60703.jpg', 'Img\\\\synpic60703.jpg', 'Img\\\\synpic42157.jpg', 'Img\\\\synpic42157.jpg', 'Img\\\\synpic60703.jpg', 'Img\\\\synpic60703.jpg', 'Img\\\\synpic24729.jpg', 'Img\\\\synpic24729.jpg', 'Img\\\\synpic22020.jpg', 'Img\\\\synpic22020.jpg', 'Img\\\\synpic53816.jpg', 'Img\\\\synpic53816.jpg', 'Img\\\\synpic22020.jpg', 'Img\\\\synpic22020.jpg', 'Img\\\\synpic56841.jpg', 'Img\\\\synpic56841.jpg', 'Img\\\\synpic32727.jpg', 'Img\\\\synpic32727.jpg', 'Img\\\\synpic48714.jpg', 'Img\\\\synpic48714.jpg', 'Img\\\\synpic22828.jpg', 'Img\\\\synpic22828.jpg', 'Img\\\\synpic40500.jpg', 'Img\\\\synpic40500.jpg', 'Img\\\\synpic40500.jpg', 'Img\\\\synpic58902.jpg', 'Img\\\\synpic58902.jpg', 'Img\\\\synpic24729.jpg', 'Img\\\\synpic24729.jpg', 'Img\\\\synpic47964.jpg', 'Img\\\\synpic47964.jpg', 'Img\\\\synpic53816.jpg', 'Img\\\\synpic42290.jpg', 'Img\\\\synpic42290.jpg', 'Img\\\\synpic47964.jpg', 'Img\\\\synpic47964.jpg', 'Img\\\\synpic32727.jpg', 'Img\\\\synpic32727.jpg', 'Img\\\\synpic100228.jpg', 'Img\\\\synpic100228.jpg', 'Img\\\\synpic9872.jpg', 'Img\\\\synpic9872.jpg', 'Img\\\\synpic22828.jpg', 'Img\\\\synpic22828.jpg', 'Img\\\\synpic42157.jpg', 'Img\\\\synpic42157.jpg', 'Img\\\\synpic48714.jpg', 'Img\\\\synpic48714.jpg', 'Img\\\\synpic26764.jpg', 'Img\\\\synpic26764.jpg', 'Img\\\\synpic38531.jpg', 'Img\\\\synpic38531.jpg', 'Img\\\\synpic32084.jpg', 'Img\\\\synpic23571.jpg', 'Img\\\\synpic23571.jpg', 'Img\\\\synpic27655.jpg', 'Img\\\\synpic27655.jpg', 'Img\\\\synpic31928.jpg', 'Img\\\\synpic33102.jpg', 'Img\\\\synpic33102.jpg', 'Img\\\\synpic60831.jpg', 'Img\\\\synpic60831.jpg', 'Img\\\\synpic31928.jpg', 'Img\\\\synpic27198.jpg', 'Img\\\\synpic27198.jpg', 'Img\\\\synpic22874.jpg', 'Img\\\\synpic22874.jpg', 'Img\\\\synpic31928.jpg', 'Img\\\\synpic31928.jpg', 'Img\\\\synpic43609.jpg', 'Img\\\\synpic43609.jpg', 'Img\\\\synpic47191.jpg', 'Img\\\\synpic47191.jpg', 'Img\\\\synpic32012.jpg', 'Img\\\\synpic32012.jpg', 'Img\\\\synpic42951.jpg', 'Img\\\\synpic53574.jpg', 'Img\\\\synpic53574.jpg', 'Img\\\\synpic25587.jpg', 'Img\\\\synpic25587.jpg', 'Img\\\\synpic33102.jpg', 'Img\\\\synpic53574.jpg', 'Img\\\\synpic53574.jpg', 'Img\\\\synpic25587.jpg', 'Img\\\\synpic25587.jpg', 'Img\\\\synpic25587.jpg', 'Img\\\\synpic25587.jpg', 'Img\\\\synpic25587.jpg', 'Img\\\\synpic25587.jpg', 'Img\\\\synpic60543.jpg', 'Img\\\\synpic60543.jpg', 'Img\\\\synpic15006.jpg', 'Img\\\\synpic15006.jpg', 'Img\\\\synpic26697.jpg', 'Img\\\\synpic31116.jpg', 'Img\\\\synpic31116.jpg', 'Img\\\\synpic31116.jpg', 'Img\\\\synpic31116.jpg', 'Img\\\\synpic60831.jpg', 'Img\\\\synpic60831.jpg', 'Img\\\\synpic42951.jpg', 'Img\\\\synpic27198.jpg', 'Img\\\\synpic27198.jpg', 'Img\\\\synpic27198.jpg', 'Img\\\\synpic27198.jpg', 'Img\\\\synpic27198.jpg', 'Img\\\\synpic27198.jpg', 'Img\\\\synpic27198.jpg', 'Img\\\\synpic27198.jpg', 'Img\\\\synpic32012.jpg', 'Img\\\\synpic32012.jpg', 'Img\\\\synpic33102.jpg', 'Img\\\\synpic33102.jpg', 'Img\\\\synpic26697.jpg', 'Img\\\\synpic42951.jpg', 'Img\\\\synpic42951.jpg', 'Img\\\\synpic33102.jpg', 'Img\\\\synpic42951.jpg', 'Img\\\\synpic47191.jpg', 'Img\\\\synpic15006.jpg', 'Img\\\\synpic31928.jpg', 'Img\\\\synpic31928.jpg', 'Img\\\\synpic25587.jpg', 'Img\\\\synpic25587.jpg', 'Img\\\\synpic43609.jpg', 'Img\\\\synpic43609.jpg', 'Img\\\\synpic31116.jpg', 'Img\\\\synpic31116.jpg', 'Img\\\\synpic29048.jpg', 'Img\\\\synpic29048.jpg', 'Img\\\\synpic32012.jpg', 'Img\\\\synpic32012.jpg', 'Img\\\\synpic52282.jpg', 'Img\\\\synpic52282.jpg', 'Img\\\\synpic42951.jpg', 'Img\\\\synpic42951.jpg', 'Img\\\\synpic15006.jpg', 'Img\\\\synpic15006.jpg', 'Img\\\\synpic23571.jpg', 'Img\\\\synpic23571.jpg', 'Img\\\\synpic26697.jpg', 'Img\\\\synpic26697.jpg', 'Img\\\\synpic47191.jpg', 'Img\\\\synpic52282.jpg', 'Img\\\\synpic52282.jpg', 'Img\\\\synpic15006.jpg', 'Img\\\\synpic45039.jpg', 'Img\\\\synpic45039.jpg', 'Img\\\\synpic58547.jpg', 'Img\\\\synpic58547.jpg', 'Img\\\\synpic33102.jpg', 'Img\\\\synpic676.jpg', 'Img\\\\synpic676.jpg', 'Img\\\\synpic47191.jpg', 'Img\\\\synpic47191.jpg', 'Img\\\\synpic53574.jpg', 'Img\\\\synpic53574.jpg', 'Img\\\\synpic58547.jpg', 'Img\\\\synpic58547.jpg', 'Img\\\\synpic58547.jpg', 'Img\\\\synpic58547.jpg', 'Img\\\\synpic27655.jpg', 'Img\\\\synpic27655.jpg', 'Img\\\\synpic42951.jpg', 'Img\\\\synpic42951.jpg', 'Img\\\\synpic60831.jpg', 'Img\\\\synpic60831.jpg', 'Img\\\\synpic26697.jpg', 'Img\\\\synpic47191.jpg', 'Img\\\\synpic15006.jpg', 'Img\\\\synpic52932.jpg', 'Img\\\\synpic52932.jpg', 'Img\\\\synpic676.jpg', 'Img\\\\synpic676.jpg', 'Img\\\\synpic29048.jpg', 'Img\\\\synpic29048.jpg', 'Img\\\\synpic31928.jpg', 'Img\\\\synpic43609.jpg', 'Img\\\\synpic43609.jpg', 'Img\\\\synpic60543.jpg', 'Img\\\\synpic60543.jpg', 'Img\\\\synpic16174.jpg', 'Img\\\\synpic16174.jpg', 'Img\\\\synpic50962.jpg', 'Img\\\\synpic51212.jpg', 'Img\\\\synpic22286.jpg', 'Img\\\\synpic22286.jpg', 'Img\\\\synpic52767.jpg', 'Img\\\\synpic52767.jpg', 'Img\\\\synpic33422.jpg', 'Img\\\\synpic33422.jpg', 'Img\\\\synpic26158.jpg', 'Img\\\\synpic26158.jpg', 'Img\\\\synpic33889.jpg', 'Img\\\\synpic33889.jpg', 'Img\\\\synpic18461.jpg', 'Img\\\\synpic18461.jpg', 'Img\\\\synpic20260.jpg', 'Img\\\\synpic20260.jpg', 'Img\\\\synpic18461.jpg', 'Img\\\\synpic18461.jpg', 'Img\\\\synpic55948.jpg', 'Img\\\\synpic55948.jpg', 'Img\\\\synpic34836.jpg', 'Img\\\\synpic34836.jpg', 'Img\\\\synpic27601.jpg', 'Img\\\\synpic27601.jpg', 'Img\\\\synpic19782.jpg', 'Img\\\\synpic19782.jpg', 'Img\\\\synpic34836.jpg', 'Img\\\\synpic34836.jpg', 'Img\\\\synpic21604.jpg', 'Img\\\\synpic21604.jpg', 'Img\\\\synpic17664.jpg', 'Img\\\\synpic17664.jpg', 'Img\\\\synpic33689.jpg', 'Img\\\\synpic33689.jpg', 'Img\\\\synpic33689.jpg', 'Img\\\\synpic33689.jpg', 'Img\\\\synpic27402.jpg', 'Img\\\\synpic27402.jpg', 'Img\\\\synpic57935.jpg', 'Img\\\\synpic57935.jpg', 'Img\\\\synpic48749.jpg', 'Img\\\\synpic48749.jpg', 'Img\\\\synpic32136.jpg', 'Img\\\\synpic32136.jpg', 'Img\\\\synpic50848.jpg', 'Img\\\\synpic50848.jpg', 'Img\\\\synpic47196.jpg', 'Img\\\\synpic47196.jpg', 'Img\\\\synpic50848.jpg', 'Img\\\\synpic50848.jpg', 'Img\\\\synpic42307.jpg', 'Img\\\\synpic42307.jpg', 'Img\\\\synpic51774.jpg', 'Img\\\\synpic51774.jpg', 'Img\\\\synpic16810.jpg', 'Img\\\\synpic16810.jpg', 'Img\\\\synpic38630.jpg', 'Img\\\\synpic38630.jpg', 'Img\\\\synpic28378.jpg', 'Img\\\\synpic28378.jpg', 'Img\\\\synpic31248.jpg', 'Img\\\\synpic31248.jpg', 'Img\\\\synpic30215.jpg', 'Img\\\\synpic30215.jpg', 'Img\\\\synpic43648.jpg', 'Img\\\\synpic43648.jpg', 'Img\\\\synpic40096.jpg', 'Img\\\\synpic40096.jpg', 'Img\\\\synpic38263.jpg', 'Img\\\\synpic38263.jpg', 'Img\\\\synpic16810.jpg', 'Img\\\\synpic16810.jpg', 'Img\\\\synpic51774.jpg', 'Img\\\\synpic51774.jpg', 'Img\\\\synpic32136.jpg', 'Img\\\\synpic32136.jpg', 'Img\\\\synpic25758.jpg', 'Img\\\\synpic25758.jpg', 'Img\\\\synpic51774.jpg', 'Img\\\\synpic51774.jpg', 'Img\\\\synpic38263.jpg', 'Img\\\\synpic38263.jpg', 'Img\\\\synpic50848.jpg', 'Img\\\\synpic50848.jpg', 'Img\\\\synpic38630.jpg', 'Img\\\\synpic38630.jpg', 'Img\\\\synpic46539.jpg', 'Img\\\\synpic46539.jpg', 'Img\\\\synpic51383.jpg', 'Img\\\\synpic51383.jpg', 'Img\\\\synpic44995.jpg', 'Img\\\\synpic44995.jpg', 'Img\\\\synpic22037.jpg', 'Img\\\\synpic22037.jpg', 'Img\\\\synpic32108.jpg', 'Img\\\\synpic32108.jpg', 'Img\\\\synpic55464.jpg', 'Img\\\\synpic55464.jpg', 'Img\\\\synpic51383.jpg', 'Img\\\\synpic51383.jpg', 'Img\\\\synpic23989.jpg', 'Img\\\\synpic23989.jpg', 'Img\\\\synpic44995.jpg', 'Img\\\\synpic44995.jpg', 'Img\\\\synpic41325.jpg', 'Img\\\\synpic41325.jpg', 'Img\\\\synpic51926.jpg', 'Img\\\\synpic51926.jpg', 'Img\\\\synpic23989.jpg', 'Img\\\\synpic23989.jpg', 'Img\\\\synpic31259.jpg', 'Img\\\\synpic31259.jpg', 'Img\\\\synpic59131.jpg', 'Img\\\\synpic59131.jpg', 'Img\\\\synpic19853.jpg', 'Img\\\\synpic19853.jpg', 'Img\\\\synpic22156.jpg', 'Img\\\\synpic22156.jpg', 'Img\\\\synpic19114.jpg', 'Img\\\\synpic19114.jpg', 'Img\\\\synpic19853.jpg', 'Img\\\\synpic19853.jpg', 'Img\\\\synpic28180.jpg', 'Img\\\\synpic28180.jpg', 'Img\\\\synpic19114.jpg', 'Img\\\\synpic19114.jpg', 'Img\\\\synpic22156.jpg', 'Img\\\\synpic22156.jpg', 'Img\\\\synpic28180.jpg', 'Img\\\\synpic28180.jpg', 'Img\\\\synpic28180.jpg', 'Img\\\\synpic28180.jpg', 'Img\\\\synpic52732.jpg', 'Img\\\\synpic52732.jpg', 'Img\\\\synpic17848.jpg', 'Img\\\\synpic17848.jpg', 'Img\\\\synpic59131.jpg', 'Img\\\\synpic59131.jpg', 'Img\\\\synpic22156.jpg', 'Img\\\\synpic22156.jpg', 'Img\\\\synpic19114.jpg', 'Img\\\\synpic19114.jpg', 'Img\\\\synpic35191.jpg', 'Img\\\\synpic35191.jpg', 'Img\\\\synpic49862.jpg', 'Img\\\\synpic49862.jpg', 'Img\\\\synpic17693.jpg', 'Img\\\\synpic17693.jpg', 'Img\\\\synpic35191.jpg', 'Img\\\\synpic35191.jpg', 'Img\\\\synpic17693.jpg', 'Img\\\\synpic17693.jpg', 'Img\\\\synpic19853.jpg', 'Img\\\\synpic19853.jpg', 'Img\\\\synpic31394.jpg', 'Img\\\\synpic31394.jpg', 'Img\\\\synpic17145.jpg', 'Img\\\\synpic17145.jpg', 'Img\\\\synpic18896.jpg', 'Img\\\\synpic18896.jpg', 'Img\\\\synpic23631.jpg', 'Img\\\\synpic23631.jpg', 'Img\\\\synpic59536.jpg', 'Img\\\\synpic59536.jpg', 'Img\\\\synpic56422.jpg', 'Img\\\\synpic56422.jpg', 'Img\\\\synpic27277.jpg', 'Img\\\\synpic27277.jpg', 'Img\\\\synpic24248.jpg', 'Img\\\\synpic24248.jpg', 'Img\\\\synpic27277.jpg', 'Img\\\\synpic27277.jpg', 'Img\\\\synpic20375.jpg', 'Img\\\\synpic20375.jpg', 'Img\\\\synpic17675.jpg', 'Img\\\\synpic17675.jpg', 'Img\\\\synpic56116.jpg', 'Img\\\\synpic56116.jpg', 'Img\\\\synpic57237.jpg', 'Img\\\\synpic57237.jpg', 'Img\\\\synpic45544.jpg', 'Img\\\\synpic45544.jpg', 'Img\\\\synpic28277.jpg', 'Img\\\\synpic28277.jpg', 'Img\\\\synpic56116.jpg', 'Img\\\\synpic56116.jpg', 'Img\\\\synpic47974.jpg', 'Img\\\\synpic47974.jpg', 'Img\\\\synpic57237.jpg', 'Img\\\\synpic57237.jpg', 'Img\\\\synpic33331.jpg', 'Img\\\\synpic33331.jpg', 'Img\\\\synpic26413.jpg', 'Img\\\\synpic26413.jpg', 'Img\\\\synpic26413.jpg', 'Img\\\\synpic26413.jpg', 'Img\\\\synpic18250.jpg', 'Img\\\\synpic18250.jpg', 'Img\\\\synpic32081.jpg', 'Img\\\\synpic32081.jpg', 'Img\\\\synpic51212.jpg', 'Img\\\\synpic51212.jpg', 'Img\\\\synpic19232.jpg', 'Img\\\\synpic19232.jpg', 'Img\\\\synpic23008.jpg', 'Img\\\\synpic23008.jpg', 'Img\\\\synpic12210.jpg', 'Img\\\\synpic12210.jpg', 'Img\\\\synpic28987.jpg', 'Img\\\\synpic28987.jpg', 'Img\\\\synpic22794.jpg', 'Img\\\\synpic22794.jpg', 'Img\\\\synpic23648.jpg', 'Img\\\\synpic23648.jpg', 'Img\\\\synpic56344.jpg', 'Img\\\\synpic56344.jpg', 'Img\\\\synpic23008.jpg', 'Img\\\\synpic23008.jpg', 'Img\\\\synpic42210.jpg', 'Img\\\\synpic42210.jpg', 'Img\\\\synpic28718.jpg', 'Img\\\\synpic28718.jpg', 'Img\\\\synpic27142.jpg', 'Img\\\\synpic27142.jpg', 'Img\\\\synpic32981.jpg', 'Img\\\\synpic32981.jpg', 'Img\\\\synpic53228.jpg', 'Img\\\\synpic53228.jpg', 'Img\\\\synpic53816.jpg', 'Img\\\\synpic53816.jpg', 'Img\\\\synpic26764.jpg', 'Img\\\\synpic26764.jpg', 'Img\\\\synpic38531.jpg', 'Img\\\\synpic38531.jpg', 'Img\\\\synpic56841.jpg', 'Img\\\\synpic56841.jpg', 'Img\\\\synpic26764.jpg', 'Img\\\\synpic26764.jpg', 'Img\\\\synpic31232.jpg', 'Img\\\\synpic31232.jpg']\n"
     ]
    }
   ],
   "source": [
    "L=[]\n",
    "def fun(text):\n",
    "    st='.jpg'\n",
    "    text=text+st\n",
    "    path=os.path.join('Img',text)\n",
    "    L.append(path)\n",
    "data['image'].apply(fun)\n",
    "print(L)"
   ]
  },
  {
   "cell_type": "code",
   "execution_count": 5,
   "id": "7e47f350",
   "metadata": {},
   "outputs": [],
   "source": [
    "df=pd.DataFrame(L)\n",
    "data['image']= df\n",
    "data=data.head(30)"
   ]
  },
  {
   "cell_type": "code",
   "execution_count": 6,
   "id": "7ff2cb5d",
   "metadata": {},
   "outputs": [
    {
     "data": {
      "text/plain": [
       "0                         হ্যাঁ\n",
       "1                            না\n",
       "2                            না\n",
       "3                 আল্ট্রাসাউন্ড\n",
       "4                            না\n",
       "5                        হাত-পা\n",
       "6                         হ্যাঁ\n",
       "7                            না\n",
       "8             বাম টেম্পোরাল লোব\n",
       "9                            না\n",
       "10                        হ্যাঁ\n",
       "11              কার্ডিওভাসকুলার\n",
       "12                        হ্যাঁ\n",
       "13                        হ্যাঁ\n",
       "14                     রক্তনালী\n",
       "15                           না\n",
       "16       এমআরআই ডিফিউশন ওয়েটেড\n",
       "17                     মস্তিষ্ক\n",
       "18                           না\n",
       "19    পোস্টেরিয়র অ্যান্টেরিয়র\n",
       "20                        হ্যাঁ\n",
       "21                        হ্যাঁ\n",
       "22                           না\n",
       "23                        হ্যাঁ\n",
       "24                        হ্যাঁ\n",
       "25                           না\n",
       "26                 বুকের এক্সরে\n",
       "27                           না\n",
       "28                           না\n",
       "29                      অক্ষীয়\n",
       "Name: answer, dtype: object"
      ]
     },
     "execution_count": 6,
     "metadata": {},
     "output_type": "execute_result"
    }
   ],
   "source": [
    "def df(text):\n",
    "    text=text.split(\" \")\n",
    "    new=[]\n",
    "    for s in text:\n",
    "        if(s!=''):\n",
    "            new.append(s)\n",
    "    return ' '.join(new)\n",
    "data['answer'].apply(df)           "
   ]
  },
  {
   "cell_type": "code",
   "execution_count": 7,
   "id": "36b39657",
   "metadata": {},
   "outputs": [
    {
     "data": {
      "text/plain": [
       "array(['হ্যাঁ', 'না', 'আল্ট্রাসাউন্ড', 'হাত-পা', 'বাম টেম্পোরাল লোব',\n",
       "       'কার্ডিওভাসকুলার', 'রক্তনালী', 'এমআরআই ডিফিউশন ওয়েটেড',\n",
       "       'মস্তিষ্ক', 'পোস্টেরিয়র অ্যান্টেরিয়র', 'বুকের এক্সরে', 'অক্ষীয়'],\n",
       "      dtype=object)"
      ]
     },
     "execution_count": 7,
     "metadata": {},
     "output_type": "execute_result"
    }
   ],
   "source": [
    "data['answer'].unique()"
   ]
  },
  {
   "cell_type": "code",
   "execution_count": 8,
   "id": "97b7f708",
   "metadata": {},
   "outputs": [
    {
     "data": {
      "text/plain": [
       "'\\nমস্তিষ্কের অঞ্চলগুলো কি ইনফার্ক্টেড?\\nফুসফুস কি স্বাভাবিক দেখা যাচ্ছে?\\nনিউমোথোরাক্সের প্রমাণ আছে কি?\\nএটি কোন ধরণের ইমেজিং উপস্থাপন করে না?\\nএটি কি বুকের এমআরআই?\\nএই ছবিতে কি চিত্রিত করা হয় নি?\\nশ্বাসনালী কি মধ্যরেখায়?\\n\\nঅর্টিক অ্যানিউরিজমের প্রমাণ আছে কি?\\nঅস্বাভাবিকতা কোথায়?\\nকস্টোভার্টিব্রাল কোণগুলো কি ভোঁতা?\\nঅর্টিক অ্যানিউরিজমের প্রমাণ আছে কি?\\nএই ছবিতে কোন অঙ্গ সিস্টেম অস্বাভাবিক?\\nবাম দিকে এয়ার স্পেসের সংযোজন আছে কি?\\nএটি কি অক্ষীয় সমতল?\\nএই ছবিতে প্যাথলজি কোথায়?\\nছবিতে কোনো নিউমোথোরাক্স আছে?\\nএটি কোন ধরণের ইমেজিং?\\nকোন অঙ্গ সিস্টেম চিত্রিত হয়?\\nছবিতে কি কোনো ফ্র্যাকচার আছে?\\nকিভাবে রোগী ওরিয়েন্টেড হয়?\\nছবিতে কি কোনো ধূসর পদার্থের ফোলা আছে?\\nএই ছবিতে কি ভাস্কুলার প্যাথলজি আছে?\\nএটি কি একটি অ্যান্টেরিয়র পোস্টেরিয়র চিত্র?\\nছবিতে কি কোনো কার্ডিওমায়োপ্যাথি আছে?\\n এটি কি মস্তিষ্ক?\\nডায়াফ্রামের নিচে কি বাতাস আছে?\\n এটি কোন ধরনের ইমেজ?\\nএটি কি সিটি ইমেজ?\\nএটি কি একটি অ্যান্টেরিয়র পোস্টেরিয়র চিত্র?\\nএই চিত্রটি কোন তলমধ্যে অবস্থিত?\\nহ্যাঁ\\nনা\\nনা\\nআল্ট্রাসাউন্ড\\nনা\\nহাত-পা\\nহ্যাঁ\\nনা\\nবাম টেম্পোরাল লোব\\nনা\\nহ্যাঁ\\nকার্ডিওভাসকুলার\\nহ্যাঁ\\nহ্যাঁ\\nরক্তনালী\\nনা\\nএমআরআই ডিফিউশন ওয়েটেড\\nমস্তিষ্ক\\nনা\\nপোস্টেরিয়র অ্যান্টেরিয়র\\nহ্যাঁ\\nহ্যাঁ\\nনা\\nহ্যাঁ\\nহ্যাঁ\\nনা\\nবুকের এক্সরে\\nনা\\nনা\\nঅক্ষীয় <start> <end>'"
      ]
     },
     "execution_count": 8,
     "metadata": {},
     "output_type": "execute_result"
    }
   ],
   "source": [
    "from tensorflow.keras.preprocessing.text import Tokenizer\n",
    "faqs=\"\"\n",
    "def fun_1(text):\n",
    "    global faqs\n",
    "    faqs=str(faqs)+\"\\n\"+str(text)\n",
    "    \n",
    "data['question'].apply(fun_1)\n",
    "data['answer'].apply(fun_1)\n",
    "faqs=faqs+\" \"+'<start>'+\" \"+'<end>'\n",
    "faqs"
   ]
  },
  {
   "cell_type": "code",
   "execution_count": 9,
   "id": "fc21e8bd",
   "metadata": {},
   "outputs": [],
   "source": [
    "tokenizer = Tokenizer()\n",
    "tokenizer.fit_on_texts([faqs])"
   ]
  },
  {
   "cell_type": "code",
   "execution_count": 10,
   "id": "4735ba68",
   "metadata": {
    "scrolled": true
   },
   "outputs": [
    {
     "data": {
      "text/plain": [
       "{'কি': 1,\n",
       " 'না': 2,\n",
       " 'আছে': 3,\n",
       " 'এটি': 4,\n",
       " 'হ্যাঁ': 5,\n",
       " 'ছবিতে': 6,\n",
       " 'কোন': 7,\n",
       " 'এই': 8,\n",
       " 'কোনো': 9,\n",
       " 'প্রমাণ': 10,\n",
       " 'হয়': 11,\n",
       " 'অ্যান্টেরিয়র': 12,\n",
       " 'পোস্টেরিয়র': 13,\n",
       " 'ধরণের': 14,\n",
       " 'ইমেজিং': 15,\n",
       " 'বুকের': 16,\n",
       " 'এমআরআই': 17,\n",
       " 'চিত্রিত': 18,\n",
       " 'অর্টিক': 19,\n",
       " 'অ্যানিউরিজমের': 20,\n",
       " 'কোথায়': 21,\n",
       " 'অঙ্গ': 22,\n",
       " 'সিস্টেম': 23,\n",
       " 'বাম': 24,\n",
       " 'অক্ষীয়': 25,\n",
       " 'প্যাথলজি': 26,\n",
       " 'একটি': 27,\n",
       " 'চিত্র': 28,\n",
       " 'মস্তিষ্ক': 29,\n",
       " 'ইমেজ': 30,\n",
       " 'মস্তিষ্কের': 31,\n",
       " 'অঞ্চলগুলো': 32,\n",
       " 'ইনফার্ক্টেড': 33,\n",
       " 'ফুসফুস': 34,\n",
       " 'স্বাভাবিক': 35,\n",
       " 'দেখা': 36,\n",
       " 'যাচ্ছে': 37,\n",
       " 'নিউমোথোরাক্সের': 38,\n",
       " 'উপস্থাপন': 39,\n",
       " 'করে': 40,\n",
       " 'করা': 41,\n",
       " 'নি': 42,\n",
       " 'শ্বাসনালী': 43,\n",
       " 'মধ্যরেখায়': 44,\n",
       " 'অস্বাভাবিকতা': 45,\n",
       " 'কস্টোভার্টিব্রাল': 46,\n",
       " 'কোণগুলো': 47,\n",
       " 'ভোঁতা': 48,\n",
       " 'অস্বাভাবিক': 49,\n",
       " 'দিকে': 50,\n",
       " 'এয়ার': 51,\n",
       " 'স্পেসের': 52,\n",
       " 'সংযোজন': 53,\n",
       " 'সমতল': 54,\n",
       " 'নিউমোথোরাক্স': 55,\n",
       " 'ফ্র্যাকচার': 56,\n",
       " 'কিভাবে': 57,\n",
       " 'রোগী': 58,\n",
       " 'ওরিয়েন্টেড': 59,\n",
       " 'ধূসর': 60,\n",
       " 'পদার্থের': 61,\n",
       " 'ফোলা': 62,\n",
       " 'ভাস্কুলার': 63,\n",
       " 'কার্ডিওমায়োপ্যাথি': 64,\n",
       " 'ডায়াফ্রামের': 65,\n",
       " 'নিচে': 66,\n",
       " 'বাতাস': 67,\n",
       " 'ধরনের': 68,\n",
       " 'সিটি': 69,\n",
       " 'চিত্রটি': 70,\n",
       " 'তলমধ্যে': 71,\n",
       " 'অবস্থিত': 72,\n",
       " 'আল্ট্রাসাউন্ড': 73,\n",
       " 'হাত': 74,\n",
       " 'পা': 75,\n",
       " 'টেম্পোরাল': 76,\n",
       " 'লোব': 77,\n",
       " 'কার্ডিওভাসকুলার': 78,\n",
       " 'রক্তনালী': 79,\n",
       " 'ডিফিউশন': 80,\n",
       " 'ওয়েটেড': 81,\n",
       " 'এক্সরে': 82,\n",
       " 'start': 83,\n",
       " 'end': 84}"
      ]
     },
     "execution_count": 10,
     "metadata": {},
     "output_type": "execute_result"
    }
   ],
   "source": [
    "tokenizer.word_index"
   ]
  },
  {
   "cell_type": "code",
   "execution_count": 11,
   "id": "4c7f5924",
   "metadata": {},
   "outputs": [
    {
     "name": "stdout",
     "output_type": "stream",
     "text": [
      "85\n"
     ]
    }
   ],
   "source": [
    "vocab_size = len(tokenizer.word_index)+1\n",
    "print(vocab_size)"
   ]
  },
  {
   "cell_type": "code",
   "execution_count": 12,
   "id": "2c02d2d8",
   "metadata": {},
   "outputs": [],
   "source": [
    "from sklearn.model_selection import train_test_split\n",
    "train,test_sample=train_test_split(data,test_size=0.2,random_state=42)\n",
    "\n",
    "validation,test=train_test_split(test_sample,test_size=0.5,random_state=42)"
   ]
  },
  {
   "cell_type": "code",
   "execution_count": 13,
   "id": "0f281ca7",
   "metadata": {},
   "outputs": [
    {
     "data": {
      "text/plain": [
       "(24, 3)"
      ]
     },
     "execution_count": 13,
     "metadata": {},
     "output_type": "execute_result"
    }
   ],
   "source": [
    "train.shape"
   ]
  },
  {
   "cell_type": "code",
   "execution_count": 14,
   "id": "64ee3416",
   "metadata": {},
   "outputs": [],
   "source": [
    "def fun(text):\n",
    "    return \"start \"+text+\" end\"\n",
    "    \n",
    "train['answer']=train['answer'].apply(fun)"
   ]
  },
  {
   "cell_type": "code",
   "execution_count": 15,
   "id": "dd4a4515",
   "metadata": {},
   "outputs": [
    {
     "data": {
      "text/html": [
       "<div>\n",
       "<style scoped>\n",
       "    .dataframe tbody tr th:only-of-type {\n",
       "        vertical-align: middle;\n",
       "    }\n",
       "\n",
       "    .dataframe tbody tr th {\n",
       "        vertical-align: top;\n",
       "    }\n",
       "\n",
       "    .dataframe thead th {\n",
       "        text-align: right;\n",
       "    }\n",
       "</style>\n",
       "<table border=\"1\" class=\"dataframe\">\n",
       "  <thead>\n",
       "    <tr style=\"text-align: right;\">\n",
       "      <th></th>\n",
       "      <th>image</th>\n",
       "      <th>question</th>\n",
       "      <th>answer</th>\n",
       "    </tr>\n",
       "  </thead>\n",
       "  <tbody>\n",
       "    <tr>\n",
       "      <th>28</th>\n",
       "      <td>Img\\synpic42202.jpg</td>\n",
       "      <td>এটি কি একটি অ্যান্টেরিয়র পোস্টেরিয়র চিত্র?</td>\n",
       "      <td>start না end</td>\n",
       "    </tr>\n",
       "    <tr>\n",
       "      <th>24</th>\n",
       "      <td>Img\\synpic39460.jpg</td>\n",
       "      <td>এটি কি মস্তিষ্ক?</td>\n",
       "      <td>start হ্যাঁ end</td>\n",
       "    </tr>\n",
       "    <tr>\n",
       "      <th>12</th>\n",
       "      <td>Img\\synpic29265.jpg</td>\n",
       "      <td>বাম দিকে এয়ার স্পেসের সংযোজন আছে কি?</td>\n",
       "      <td>start হ্যাঁ end</td>\n",
       "    </tr>\n",
       "    <tr>\n",
       "      <th>0</th>\n",
       "      <td>Img\\synpic54610.jpg</td>\n",
       "      <td>মস্তিষ্কের অঞ্চলগুলো কি ইনফার্ক্টেড?</td>\n",
       "      <td>start হ্যাঁ end</td>\n",
       "    </tr>\n",
       "    <tr>\n",
       "      <th>4</th>\n",
       "      <td>Img\\synpic29265.jpg</td>\n",
       "      <td>এটি কি বুকের এমআরআই?</td>\n",
       "      <td>start না end</td>\n",
       "    </tr>\n",
       "    <tr>\n",
       "      <th>16</th>\n",
       "      <td>Img\\synpic54610.jpg</td>\n",
       "      <td>এটি কোন ধরণের ইমেজিং?</td>\n",
       "      <td>start এমআরআই ডিফিউশন ওয়েটেড end</td>\n",
       "    </tr>\n",
       "    <tr>\n",
       "      <th>5</th>\n",
       "      <td>Img\\synpic28602.jpg</td>\n",
       "      <td>এই ছবিতে কি চিত্রিত করা হয় নি?</td>\n",
       "      <td>start হাত-পা end</td>\n",
       "    </tr>\n",
       "    <tr>\n",
       "      <th>13</th>\n",
       "      <td>Img\\synpic54610.jpg</td>\n",
       "      <td>এটি কি অক্ষীয় সমতল?</td>\n",
       "      <td>start হ্যাঁ end</td>\n",
       "    </tr>\n",
       "    <tr>\n",
       "      <th>11</th>\n",
       "      <td>Img\\synpic42202.jpg</td>\n",
       "      <td>এই ছবিতে কোন অঙ্গ সিস্টেম অস্বাভাবিক?</td>\n",
       "      <td>start কার্ডিওভাসকুলার end</td>\n",
       "    </tr>\n",
       "    <tr>\n",
       "      <th>22</th>\n",
       "      <td>Img\\synpic28602.jpg</td>\n",
       "      <td>এটি কি একটি অ্যান্টেরিয়র পোস্টেরিয়র চিত্র?</td>\n",
       "      <td>start না end</td>\n",
       "    </tr>\n",
       "    <tr>\n",
       "      <th>1</th>\n",
       "      <td>Img\\synpic29265.jpg</td>\n",
       "      <td>ফুসফুস কি স্বাভাবিক দেখা যাচ্ছে?</td>\n",
       "      <td>start না end</td>\n",
       "    </tr>\n",
       "    <tr>\n",
       "      <th>2</th>\n",
       "      <td>Img\\synpic29265.jpg</td>\n",
       "      <td>নিউমোথোরাক্সের প্রমাণ আছে কি?</td>\n",
       "      <td>start না end</td>\n",
       "    </tr>\n",
       "    <tr>\n",
       "      <th>25</th>\n",
       "      <td>Img\\synpic29265.jpg</td>\n",
       "      <td>ডায়াফ্রামের নিচে কি বাতাস আছে?</td>\n",
       "      <td>start না end</td>\n",
       "    </tr>\n",
       "    <tr>\n",
       "      <th>3</th>\n",
       "      <td>Img\\synpic28602.jpg</td>\n",
       "      <td>এটি কোন ধরণের ইমেজিং উপস্থাপন করে না?</td>\n",
       "      <td>start আল্ট্রাসাউন্ড end</td>\n",
       "    </tr>\n",
       "    <tr>\n",
       "      <th>21</th>\n",
       "      <td>Img\\synpic54610.jpg</td>\n",
       "      <td>এই ছবিতে কি ভাস্কুলার প্যাথলজি আছে?</td>\n",
       "      <td>start হ্যাঁ end</td>\n",
       "    </tr>\n",
       "    <tr>\n",
       "      <th>26</th>\n",
       "      <td>Img\\synpic42202.jpg</td>\n",
       "      <td>এটি কোন ধরনের ইমেজ?</td>\n",
       "      <td>start বুকের এক্সরে end</td>\n",
       "    </tr>\n",
       "    <tr>\n",
       "      <th>18</th>\n",
       "      <td>Img\\synpic29265.jpg</td>\n",
       "      <td>ছবিতে কি কোনো ফ্র্যাকচার আছে?</td>\n",
       "      <td>start না end</td>\n",
       "    </tr>\n",
       "    <tr>\n",
       "      <th>29</th>\n",
       "      <td>Img\\synpic39460.jpg</td>\n",
       "      <td>এই চিত্রটি কোন তলমধ্যে অবস্থিত?</td>\n",
       "      <td>start অক্ষীয় end</td>\n",
       "    </tr>\n",
       "    <tr>\n",
       "      <th>20</th>\n",
       "      <td>Img\\synpic39460.jpg</td>\n",
       "      <td>ছবিতে কি কোনো ধূসর পদার্থের ফোলা আছে?</td>\n",
       "      <td>start হ্যাঁ end</td>\n",
       "    </tr>\n",
       "    <tr>\n",
       "      <th>7</th>\n",
       "      <td>Img\\synpic28602.jpg</td>\n",
       "      <td>\\nঅর্টিক অ্যানিউরিজমের প্রমাণ আছে কি?</td>\n",
       "      <td>start না end</td>\n",
       "    </tr>\n",
       "    <tr>\n",
       "      <th>10</th>\n",
       "      <td>Img\\synpic42202.jpg</td>\n",
       "      <td>অর্টিক অ্যানিউরিজমের প্রমাণ আছে কি?</td>\n",
       "      <td>start হ্যাঁ end</td>\n",
       "    </tr>\n",
       "  </tbody>\n",
       "</table>\n",
       "</div>"
      ],
      "text/plain": [
       "                  image                                      question  \\\n",
       "28  Img\\synpic42202.jpg  এটি কি একটি অ্যান্টেরিয়র পোস্টেরিয়র চিত্র?   \n",
       "24  Img\\synpic39460.jpg                              এটি কি মস্তিষ্ক?   \n",
       "12  Img\\synpic29265.jpg         বাম দিকে এয়ার স্পেসের সংযোজন আছে কি?   \n",
       "0   Img\\synpic54610.jpg          মস্তিষ্কের অঞ্চলগুলো কি ইনফার্ক্টেড?   \n",
       "4   Img\\synpic29265.jpg                          এটি কি বুকের এমআরআই?   \n",
       "16  Img\\synpic54610.jpg                         এটি কোন ধরণের ইমেজিং?   \n",
       "5   Img\\synpic28602.jpg               এই ছবিতে কি চিত্রিত করা হয় নি?   \n",
       "13  Img\\synpic54610.jpg                          এটি কি অক্ষীয় সমতল?   \n",
       "11  Img\\synpic42202.jpg         এই ছবিতে কোন অঙ্গ সিস্টেম অস্বাভাবিক?   \n",
       "22  Img\\synpic28602.jpg  এটি কি একটি অ্যান্টেরিয়র পোস্টেরিয়র চিত্র?   \n",
       "1   Img\\synpic29265.jpg              ফুসফুস কি স্বাভাবিক দেখা যাচ্ছে?   \n",
       "2   Img\\synpic29265.jpg                 নিউমোথোরাক্সের প্রমাণ আছে কি?   \n",
       "25  Img\\synpic29265.jpg               ডায়াফ্রামের নিচে কি বাতাস আছে?   \n",
       "3   Img\\synpic28602.jpg         এটি কোন ধরণের ইমেজিং উপস্থাপন করে না?   \n",
       "21  Img\\synpic54610.jpg           এই ছবিতে কি ভাস্কুলার প্যাথলজি আছে?   \n",
       "26  Img\\synpic42202.jpg                           এটি কোন ধরনের ইমেজ?   \n",
       "18  Img\\synpic29265.jpg                 ছবিতে কি কোনো ফ্র্যাকচার আছে?   \n",
       "29  Img\\synpic39460.jpg               এই চিত্রটি কোন তলমধ্যে অবস্থিত?   \n",
       "20  Img\\synpic39460.jpg         ছবিতে কি কোনো ধূসর পদার্থের ফোলা আছে?   \n",
       "7   Img\\synpic28602.jpg         \\nঅর্টিক অ্যানিউরিজমের প্রমাণ আছে কি?   \n",
       "10  Img\\synpic42202.jpg           অর্টিক অ্যানিউরিজমের প্রমাণ আছে কি?   \n",
       "\n",
       "                              answer  \n",
       "28                      start না end  \n",
       "24                   start হ্যাঁ end  \n",
       "12                   start হ্যাঁ end  \n",
       "0                    start হ্যাঁ end  \n",
       "4                       start না end  \n",
       "16  start এমআরআই ডিফিউশন ওয়েটেড end  \n",
       "5                   start হাত-পা end  \n",
       "13                   start হ্যাঁ end  \n",
       "11         start কার্ডিওভাসকুলার end  \n",
       "22                      start না end  \n",
       "1                       start না end  \n",
       "2                       start না end  \n",
       "25                      start না end  \n",
       "3            start আল্ট্রাসাউন্ড end  \n",
       "21                   start হ্যাঁ end  \n",
       "26            start বুকের এক্সরে end  \n",
       "18                      start না end  \n",
       "29                 start অক্ষীয় end  \n",
       "20                   start হ্যাঁ end  \n",
       "7                       start না end  \n",
       "10                   start হ্যাঁ end  "
      ]
     },
     "execution_count": 15,
     "metadata": {},
     "output_type": "execute_result"
    }
   ],
   "source": [
    "train.head(21)"
   ]
  },
  {
   "cell_type": "code",
   "execution_count": 16,
   "id": "3af1e582",
   "metadata": {
    "scrolled": true
   },
   "outputs": [
    {
     "data": {
      "text/plain": [
       "28    None\n",
       "24    None\n",
       "12    None\n",
       "0     None\n",
       "4     None\n",
       "16    None\n",
       "5     None\n",
       "13    None\n",
       "11    None\n",
       "22    None\n",
       "1     None\n",
       "2     None\n",
       "25    None\n",
       "3     None\n",
       "21    None\n",
       "26    None\n",
       "18    None\n",
       "29    None\n",
       "20    None\n",
       "7     None\n",
       "10    None\n",
       "14    None\n",
       "19    None\n",
       "6     None\n",
       "dtype: object"
      ]
     },
     "execution_count": 16,
     "metadata": {},
     "output_type": "execute_result"
    }
   ],
   "source": [
    "X1 = []\n",
    "X2 = []\n",
    "y = []\n",
    "w=[]\n",
    "def final_train_dataset(example):\n",
    "    text2=example['image']\n",
    "    text1=example['question']\n",
    "    text0 = example['answer']\n",
    "    \n",
    "    tex = text0.split(\" \")\n",
    "    text=[]\n",
    "    for s in tex:\n",
    "        if(s!=''):\n",
    "            text.append(s)\n",
    "            \n",
    "    \n",
    "    for i in range(0, len(text)):\n",
    "        \n",
    "            # split into input and output pairs\n",
    "            in_seq, out_seq = text[:i], text[i]\n",
    "           \n",
    "            X1.append(text2)  # This line will raise another error because 'image' column is not defined\n",
    "            X2.append(text1+\" \"+' '.join(in_seq))\n",
    "            y.append(out_seq)\n",
    "                \n",
    "            \n",
    "\n",
    "# Apply the function to the DataFrame\n",
    "train.apply(final_train_dataset, axis=1)\n"
   ]
  },
  {
   "cell_type": "code",
   "execution_count": 17,
   "id": "93a6b125",
   "metadata": {},
   "outputs": [],
   "source": [
    "dd={'image':X1,'question':X2,'answer':y}\n",
    "new_train = pd.DataFrame(data=dd)"
   ]
  },
  {
   "cell_type": "code",
   "execution_count": 18,
   "id": "04945d8b",
   "metadata": {},
   "outputs": [
    {
     "data": {
      "text/html": [
       "<div>\n",
       "<style scoped>\n",
       "    .dataframe tbody tr th:only-of-type {\n",
       "        vertical-align: middle;\n",
       "    }\n",
       "\n",
       "    .dataframe tbody tr th {\n",
       "        vertical-align: top;\n",
       "    }\n",
       "\n",
       "    .dataframe thead th {\n",
       "        text-align: right;\n",
       "    }\n",
       "</style>\n",
       "<table border=\"1\" class=\"dataframe\">\n",
       "  <thead>\n",
       "    <tr style=\"text-align: right;\">\n",
       "      <th></th>\n",
       "      <th>image</th>\n",
       "      <th>question</th>\n",
       "      <th>answer</th>\n",
       "    </tr>\n",
       "  </thead>\n",
       "  <tbody>\n",
       "    <tr>\n",
       "      <th>0</th>\n",
       "      <td>Img\\synpic42202.jpg</td>\n",
       "      <td>এটি কি একটি অ্যান্টেরিয়র পোস্টেরিয়র চিত্র?</td>\n",
       "      <td>start</td>\n",
       "    </tr>\n",
       "    <tr>\n",
       "      <th>1</th>\n",
       "      <td>Img\\synpic42202.jpg</td>\n",
       "      <td>এটি কি একটি অ্যান্টেরিয়র পোস্টেরিয়র চিত্র? s...</td>\n",
       "      <td>না</td>\n",
       "    </tr>\n",
       "    <tr>\n",
       "      <th>2</th>\n",
       "      <td>Img\\synpic42202.jpg</td>\n",
       "      <td>এটি কি একটি অ্যান্টেরিয়র পোস্টেরিয়র চিত্র? s...</td>\n",
       "      <td>end</td>\n",
       "    </tr>\n",
       "    <tr>\n",
       "      <th>3</th>\n",
       "      <td>Img\\synpic39460.jpg</td>\n",
       "      <td>এটি কি মস্তিষ্ক?</td>\n",
       "      <td>start</td>\n",
       "    </tr>\n",
       "    <tr>\n",
       "      <th>4</th>\n",
       "      <td>Img\\synpic39460.jpg</td>\n",
       "      <td>এটি কি মস্তিষ্ক? start</td>\n",
       "      <td>হ্যাঁ</td>\n",
       "    </tr>\n",
       "    <tr>\n",
       "      <th>5</th>\n",
       "      <td>Img\\synpic39460.jpg</td>\n",
       "      <td>এটি কি মস্তিষ্ক? start হ্যাঁ</td>\n",
       "      <td>end</td>\n",
       "    </tr>\n",
       "    <tr>\n",
       "      <th>6</th>\n",
       "      <td>Img\\synpic29265.jpg</td>\n",
       "      <td>বাম দিকে এয়ার স্পেসের সংযোজন আছে কি?</td>\n",
       "      <td>start</td>\n",
       "    </tr>\n",
       "    <tr>\n",
       "      <th>7</th>\n",
       "      <td>Img\\synpic29265.jpg</td>\n",
       "      <td>বাম দিকে এয়ার স্পেসের সংযোজন আছে কি? start</td>\n",
       "      <td>হ্যাঁ</td>\n",
       "    </tr>\n",
       "    <tr>\n",
       "      <th>8</th>\n",
       "      <td>Img\\synpic29265.jpg</td>\n",
       "      <td>বাম দিকে এয়ার স্পেসের সংযোজন আছে কি? start হ্যাঁ</td>\n",
       "      <td>end</td>\n",
       "    </tr>\n",
       "    <tr>\n",
       "      <th>9</th>\n",
       "      <td>Img\\synpic54610.jpg</td>\n",
       "      <td>মস্তিষ্কের অঞ্চলগুলো কি ইনফার্ক্টেড?</td>\n",
       "      <td>start</td>\n",
       "    </tr>\n",
       "    <tr>\n",
       "      <th>10</th>\n",
       "      <td>Img\\synpic54610.jpg</td>\n",
       "      <td>মস্তিষ্কের অঞ্চলগুলো কি ইনফার্ক্টেড? start</td>\n",
       "      <td>হ্যাঁ</td>\n",
       "    </tr>\n",
       "    <tr>\n",
       "      <th>11</th>\n",
       "      <td>Img\\synpic54610.jpg</td>\n",
       "      <td>মস্তিষ্কের অঞ্চলগুলো কি ইনফার্ক্টেড? start হ্যাঁ</td>\n",
       "      <td>end</td>\n",
       "    </tr>\n",
       "    <tr>\n",
       "      <th>12</th>\n",
       "      <td>Img\\synpic29265.jpg</td>\n",
       "      <td>এটি কি বুকের এমআরআই?</td>\n",
       "      <td>start</td>\n",
       "    </tr>\n",
       "    <tr>\n",
       "      <th>13</th>\n",
       "      <td>Img\\synpic29265.jpg</td>\n",
       "      <td>এটি কি বুকের এমআরআই? start</td>\n",
       "      <td>না</td>\n",
       "    </tr>\n",
       "    <tr>\n",
       "      <th>14</th>\n",
       "      <td>Img\\synpic29265.jpg</td>\n",
       "      <td>এটি কি বুকের এমআরআই? start না</td>\n",
       "      <td>end</td>\n",
       "    </tr>\n",
       "    <tr>\n",
       "      <th>15</th>\n",
       "      <td>Img\\synpic54610.jpg</td>\n",
       "      <td>এটি কোন ধরণের ইমেজিং?</td>\n",
       "      <td>start</td>\n",
       "    </tr>\n",
       "    <tr>\n",
       "      <th>16</th>\n",
       "      <td>Img\\synpic54610.jpg</td>\n",
       "      <td>এটি কোন ধরণের ইমেজিং? start</td>\n",
       "      <td>এমআরআই</td>\n",
       "    </tr>\n",
       "    <tr>\n",
       "      <th>17</th>\n",
       "      <td>Img\\synpic54610.jpg</td>\n",
       "      <td>এটি কোন ধরণের ইমেজিং? start এমআরআই</td>\n",
       "      <td>ডিফিউশন</td>\n",
       "    </tr>\n",
       "    <tr>\n",
       "      <th>18</th>\n",
       "      <td>Img\\synpic54610.jpg</td>\n",
       "      <td>এটি কোন ধরণের ইমেজিং? start এমআরআই ডিফিউশন</td>\n",
       "      <td>ওয়েটেড</td>\n",
       "    </tr>\n",
       "    <tr>\n",
       "      <th>19</th>\n",
       "      <td>Img\\synpic54610.jpg</td>\n",
       "      <td>এটি কোন ধরণের ইমেজিং? start এমআরআই ডিফিউশন ওয়...</td>\n",
       "      <td>end</td>\n",
       "    </tr>\n",
       "    <tr>\n",
       "      <th>20</th>\n",
       "      <td>Img\\synpic28602.jpg</td>\n",
       "      <td>এই ছবিতে কি চিত্রিত করা হয় নি?</td>\n",
       "      <td>start</td>\n",
       "    </tr>\n",
       "    <tr>\n",
       "      <th>21</th>\n",
       "      <td>Img\\synpic28602.jpg</td>\n",
       "      <td>এই ছবিতে কি চিত্রিত করা হয় নি? start</td>\n",
       "      <td>হাত-পা</td>\n",
       "    </tr>\n",
       "    <tr>\n",
       "      <th>22</th>\n",
       "      <td>Img\\synpic28602.jpg</td>\n",
       "      <td>এই ছবিতে কি চিত্রিত করা হয় নি? start হাত-পা</td>\n",
       "      <td>end</td>\n",
       "    </tr>\n",
       "    <tr>\n",
       "      <th>23</th>\n",
       "      <td>Img\\synpic54610.jpg</td>\n",
       "      <td>এটি কি অক্ষীয় সমতল?</td>\n",
       "      <td>start</td>\n",
       "    </tr>\n",
       "    <tr>\n",
       "      <th>24</th>\n",
       "      <td>Img\\synpic54610.jpg</td>\n",
       "      <td>এটি কি অক্ষীয় সমতল? start</td>\n",
       "      <td>হ্যাঁ</td>\n",
       "    </tr>\n",
       "    <tr>\n",
       "      <th>25</th>\n",
       "      <td>Img\\synpic54610.jpg</td>\n",
       "      <td>এটি কি অক্ষীয় সমতল? start হ্যাঁ</td>\n",
       "      <td>end</td>\n",
       "    </tr>\n",
       "    <tr>\n",
       "      <th>26</th>\n",
       "      <td>Img\\synpic42202.jpg</td>\n",
       "      <td>এই ছবিতে কোন অঙ্গ সিস্টেম অস্বাভাবিক?</td>\n",
       "      <td>start</td>\n",
       "    </tr>\n",
       "    <tr>\n",
       "      <th>27</th>\n",
       "      <td>Img\\synpic42202.jpg</td>\n",
       "      <td>এই ছবিতে কোন অঙ্গ সিস্টেম অস্বাভাবিক? start</td>\n",
       "      <td>কার্ডিওভাসকুলার</td>\n",
       "    </tr>\n",
       "    <tr>\n",
       "      <th>28</th>\n",
       "      <td>Img\\synpic42202.jpg</td>\n",
       "      <td>এই ছবিতে কোন অঙ্গ সিস্টেম অস্বাভাবিক? start কা...</td>\n",
       "      <td>end</td>\n",
       "    </tr>\n",
       "    <tr>\n",
       "      <th>29</th>\n",
       "      <td>Img\\synpic28602.jpg</td>\n",
       "      <td>এটি কি একটি অ্যান্টেরিয়র পোস্টেরিয়র চিত্র?</td>\n",
       "      <td>start</td>\n",
       "    </tr>\n",
       "  </tbody>\n",
       "</table>\n",
       "</div>"
      ],
      "text/plain": [
       "                  image                                           question  \\\n",
       "0   Img\\synpic42202.jpg      এটি কি একটি অ্যান্টেরিয়র পোস্টেরিয়র চিত্র?    \n",
       "1   Img\\synpic42202.jpg  এটি কি একটি অ্যান্টেরিয়র পোস্টেরিয়র চিত্র? s...   \n",
       "2   Img\\synpic42202.jpg  এটি কি একটি অ্যান্টেরিয়র পোস্টেরিয়র চিত্র? s...   \n",
       "3   Img\\synpic39460.jpg                                  এটি কি মস্তিষ্ক?    \n",
       "4   Img\\synpic39460.jpg                             এটি কি মস্তিষ্ক? start   \n",
       "5   Img\\synpic39460.jpg                       এটি কি মস্তিষ্ক? start হ্যাঁ   \n",
       "6   Img\\synpic29265.jpg             বাম দিকে এয়ার স্পেসের সংযোজন আছে কি?    \n",
       "7   Img\\synpic29265.jpg        বাম দিকে এয়ার স্পেসের সংযোজন আছে কি? start   \n",
       "8   Img\\synpic29265.jpg  বাম দিকে এয়ার স্পেসের সংযোজন আছে কি? start হ্যাঁ   \n",
       "9   Img\\synpic54610.jpg              মস্তিষ্কের অঞ্চলগুলো কি ইনফার্ক্টেড?    \n",
       "10  Img\\synpic54610.jpg         মস্তিষ্কের অঞ্চলগুলো কি ইনফার্ক্টেড? start   \n",
       "11  Img\\synpic54610.jpg   মস্তিষ্কের অঞ্চলগুলো কি ইনফার্ক্টেড? start হ্যাঁ   \n",
       "12  Img\\synpic29265.jpg                              এটি কি বুকের এমআরআই?    \n",
       "13  Img\\synpic29265.jpg                         এটি কি বুকের এমআরআই? start   \n",
       "14  Img\\synpic29265.jpg                      এটি কি বুকের এমআরআই? start না   \n",
       "15  Img\\synpic54610.jpg                             এটি কোন ধরণের ইমেজিং?    \n",
       "16  Img\\synpic54610.jpg                        এটি কোন ধরণের ইমেজিং? start   \n",
       "17  Img\\synpic54610.jpg                 এটি কোন ধরণের ইমেজিং? start এমআরআই   \n",
       "18  Img\\synpic54610.jpg         এটি কোন ধরণের ইমেজিং? start এমআরআই ডিফিউশন   \n",
       "19  Img\\synpic54610.jpg  এটি কোন ধরণের ইমেজিং? start এমআরআই ডিফিউশন ওয়...   \n",
       "20  Img\\synpic28602.jpg                   এই ছবিতে কি চিত্রিত করা হয় নি?    \n",
       "21  Img\\synpic28602.jpg              এই ছবিতে কি চিত্রিত করা হয় নি? start   \n",
       "22  Img\\synpic28602.jpg       এই ছবিতে কি চিত্রিত করা হয় নি? start হাত-পা   \n",
       "23  Img\\synpic54610.jpg                              এটি কি অক্ষীয় সমতল?    \n",
       "24  Img\\synpic54610.jpg                         এটি কি অক্ষীয় সমতল? start   \n",
       "25  Img\\synpic54610.jpg                   এটি কি অক্ষীয় সমতল? start হ্যাঁ   \n",
       "26  Img\\synpic42202.jpg             এই ছবিতে কোন অঙ্গ সিস্টেম অস্বাভাবিক?    \n",
       "27  Img\\synpic42202.jpg        এই ছবিতে কোন অঙ্গ সিস্টেম অস্বাভাবিক? start   \n",
       "28  Img\\synpic42202.jpg  এই ছবিতে কোন অঙ্গ সিস্টেম অস্বাভাবিক? start কা...   \n",
       "29  Img\\synpic28602.jpg      এটি কি একটি অ্যান্টেরিয়র পোস্টেরিয়র চিত্র?    \n",
       "\n",
       "             answer  \n",
       "0             start  \n",
       "1                না  \n",
       "2               end  \n",
       "3             start  \n",
       "4             হ্যাঁ  \n",
       "5               end  \n",
       "6             start  \n",
       "7             হ্যাঁ  \n",
       "8               end  \n",
       "9             start  \n",
       "10            হ্যাঁ  \n",
       "11              end  \n",
       "12            start  \n",
       "13               না  \n",
       "14              end  \n",
       "15            start  \n",
       "16           এমআরআই  \n",
       "17          ডিফিউশন  \n",
       "18          ওয়েটেড  \n",
       "19              end  \n",
       "20            start  \n",
       "21           হাত-পা  \n",
       "22              end  \n",
       "23            start  \n",
       "24            হ্যাঁ  \n",
       "25              end  \n",
       "26            start  \n",
       "27  কার্ডিওভাসকুলার  \n",
       "28              end  \n",
       "29            start  "
      ]
     },
     "execution_count": 18,
     "metadata": {},
     "output_type": "execute_result"
    }
   ],
   "source": [
    "new_train.head(30)"
   ]
  },
  {
   "cell_type": "code",
   "execution_count": 19,
   "id": "3a120a59",
   "metadata": {},
   "outputs": [
    {
     "data": {
      "text/plain": [
       "9"
      ]
     },
     "execution_count": 19,
     "metadata": {},
     "output_type": "execute_result"
    }
   ],
   "source": [
    "max_length = max(len(caption.split()) for caption in X2)\n",
    "max_length"
   ]
  },
  {
   "cell_type": "code",
   "execution_count": 20,
   "id": "1f423286",
   "metadata": {},
   "outputs": [],
   "source": [
    "test = test.drop(columns = ['answer'])"
   ]
  },
  {
   "cell_type": "code",
   "execution_count": 21,
   "id": "fb6d73c8",
   "metadata": {},
   "outputs": [],
   "source": [
    "new_train.to_csv('train.csv', index=False)\n",
    "validation.to_csv('validation.csv', index=False)\n",
    "test.to_csv('test.csv', index=False)"
   ]
  },
  {
   "cell_type": "code",
   "execution_count": 22,
   "id": "4f64ef7a",
   "metadata": {},
   "outputs": [
    {
     "data": {
      "application/vnd.jupyter.widget-view+json": {
       "model_id": "c95bc8f1feb54313b52fbf8c0bb02bd1",
       "version_major": 2,
       "version_minor": 0
      },
      "text/plain": [
       "Generating train split: 0 examples [00:00, ? examples/s]"
      ]
     },
     "metadata": {},
     "output_type": "display_data"
    },
    {
     "data": {
      "application/vnd.jupyter.widget-view+json": {
       "model_id": "05e6a3e0d3594a2b8bead8bcbdf7f85f",
       "version_major": 2,
       "version_minor": 0
      },
      "text/plain": [
       "Generating train split: 0 examples [00:00, ? examples/s]"
      ]
     },
     "metadata": {},
     "output_type": "display_data"
    },
    {
     "data": {
      "application/vnd.jupyter.widget-view+json": {
       "model_id": "f644f87777c440709aa05bdfd3a193ff",
       "version_major": 2,
       "version_minor": 0
      },
      "text/plain": [
       "Generating train split: 0 examples [00:00, ? examples/s]"
      ]
     },
     "metadata": {},
     "output_type": "display_data"
    }
   ],
   "source": [
    "from datasets import load_dataset\n",
    "train_dataset = load_dataset(\"csv\", data_files='train.csv')\n",
    "validation_dataset = load_dataset(\"csv\", data_files='validation.csv')\n",
    "test_dataset = load_dataset(\"csv\", data_files=\"test.csv\")"
   ]
  },
  {
   "cell_type": "code",
   "execution_count": 23,
   "id": "301cf6ff",
   "metadata": {},
   "outputs": [
    {
     "data": {
      "text/plain": [
       "Dataset({\n",
       "    features: ['image', 'question', 'answer'],\n",
       "    num_rows: 76\n",
       "})"
      ]
     },
     "execution_count": 23,
     "metadata": {},
     "output_type": "execute_result"
    }
   ],
   "source": [
    "train_dataset=train_dataset['train']\n",
    "train_dataset"
   ]
  },
  {
   "cell_type": "code",
   "execution_count": 24,
   "id": "b264bb3a",
   "metadata": {},
   "outputs": [
    {
     "data": {
      "text/plain": [
       "['এটি কি একটি অ্যান্টেরিয়র পোস্টেরিয়র চিত্র? ',\n",
       " 'এটি কি একটি অ্যান্টেরিয়র পোস্টেরিয়র চিত্র? start',\n",
       " 'এটি কি একটি অ্যান্টেরিয়র পোস্টেরিয়র চিত্র? start না',\n",
       " ' এটি কি মস্তিষ্ক? ',\n",
       " ' এটি কি মস্তিষ্ক? start',\n",
       " ' এটি কি মস্তিষ্ক? start হ্যাঁ',\n",
       " 'বাম দিকে এয়ার স্পেসের সংযোজন আছে কি? ',\n",
       " 'বাম দিকে এয়ার স্পেসের সংযোজন আছে কি? start',\n",
       " 'বাম দিকে এয়ার স্পেসের সংযোজন আছে কি? start হ্যাঁ',\n",
       " 'মস্তিষ্কের অঞ্চলগুলো কি ইনফার্ক্টেড? ',\n",
       " 'মস্তিষ্কের অঞ্চলগুলো কি ইনফার্ক্টেড? start',\n",
       " 'মস্তিষ্কের অঞ্চলগুলো কি ইনফার্ক্টেড? start হ্যাঁ',\n",
       " 'এটি কি বুকের এমআরআই? ',\n",
       " 'এটি কি বুকের এমআরআই? start',\n",
       " 'এটি কি বুকের এমআরআই? start না',\n",
       " 'এটি কোন ধরণের ইমেজিং? ',\n",
       " 'এটি কোন ধরণের ইমেজিং? start',\n",
       " 'এটি কোন ধরণের ইমেজিং? start এমআরআই',\n",
       " 'এটি কোন ধরণের ইমেজিং? start এমআরআই ডিফিউশন',\n",
       " 'এটি কোন ধরণের ইমেজিং? start এমআরআই ডিফিউশন ওয়েটেড',\n",
       " 'এই ছবিতে কি চিত্রিত করা হয় নি? ',\n",
       " 'এই ছবিতে কি চিত্রিত করা হয় নি? start',\n",
       " 'এই ছবিতে কি চিত্রিত করা হয় নি? start হাত-পা',\n",
       " 'এটি কি অক্ষীয় সমতল? ',\n",
       " 'এটি কি অক্ষীয় সমতল? start',\n",
       " 'এটি কি অক্ষীয় সমতল? start হ্যাঁ',\n",
       " 'এই ছবিতে কোন অঙ্গ সিস্টেম অস্বাভাবিক? ',\n",
       " 'এই ছবিতে কোন অঙ্গ সিস্টেম অস্বাভাবিক? start',\n",
       " 'এই ছবিতে কোন অঙ্গ সিস্টেম অস্বাভাবিক? start কার্ডিওভাসকুলার',\n",
       " 'এটি কি একটি অ্যান্টেরিয়র পোস্টেরিয়র চিত্র? ',\n",
       " 'এটি কি একটি অ্যান্টেরিয়র পোস্টেরিয়র চিত্র? start',\n",
       " 'এটি কি একটি অ্যান্টেরিয়র পোস্টেরিয়র চিত্র? start না',\n",
       " 'ফুসফুস কি স্বাভাবিক দেখা যাচ্ছে? ',\n",
       " 'ফুসফুস কি স্বাভাবিক দেখা যাচ্ছে? start',\n",
       " 'ফুসফুস কি স্বাভাবিক দেখা যাচ্ছে? start না',\n",
       " 'নিউমোথোরাক্সের প্রমাণ আছে কি? ',\n",
       " 'নিউমোথোরাক্সের প্রমাণ আছে কি? start',\n",
       " 'নিউমোথোরাক্সের প্রমাণ আছে কি? start না',\n",
       " 'ডায়াফ্রামের নিচে কি বাতাস আছে? ',\n",
       " 'ডায়াফ্রামের নিচে কি বাতাস আছে? start',\n",
       " 'ডায়াফ্রামের নিচে কি বাতাস আছে? start না',\n",
       " 'এটি কোন ধরণের ইমেজিং উপস্থাপন করে না? ',\n",
       " 'এটি কোন ধরণের ইমেজিং উপস্থাপন করে না? start',\n",
       " 'এটি কোন ধরণের ইমেজিং উপস্থাপন করে না? start আল্ট্রাসাউন্ড',\n",
       " 'এই ছবিতে কি ভাস্কুলার প্যাথলজি আছে? ',\n",
       " 'এই ছবিতে কি ভাস্কুলার প্যাথলজি আছে? start',\n",
       " 'এই ছবিতে কি ভাস্কুলার প্যাথলজি আছে? start হ্যাঁ',\n",
       " ' এটি কোন ধরনের ইমেজ? ',\n",
       " ' এটি কোন ধরনের ইমেজ? start',\n",
       " ' এটি কোন ধরনের ইমেজ? start বুকের',\n",
       " ' এটি কোন ধরনের ইমেজ? start বুকের এক্সরে',\n",
       " 'ছবিতে কি কোনো ফ্র্যাকচার আছে? ',\n",
       " 'ছবিতে কি কোনো ফ্র্যাকচার আছে? start',\n",
       " 'ছবিতে কি কোনো ফ্র্যাকচার আছে? start না',\n",
       " 'এই চিত্রটি কোন তলমধ্যে অবস্থিত? ',\n",
       " 'এই চিত্রটি কোন তলমধ্যে অবস্থিত? start',\n",
       " 'এই চিত্রটি কোন তলমধ্যে অবস্থিত? start অক্ষীয়',\n",
       " 'ছবিতে কি কোনো ধূসর পদার্থের ফোলা আছে? ',\n",
       " 'ছবিতে কি কোনো ধূসর পদার্থের ফোলা আছে? start',\n",
       " 'ছবিতে কি কোনো ধূসর পদার্থের ফোলা আছে? start হ্যাঁ',\n",
       " '\\nঅর্টিক অ্যানিউরিজমের প্রমাণ আছে কি? ',\n",
       " '\\nঅর্টিক অ্যানিউরিজমের প্রমাণ আছে কি? start',\n",
       " '\\nঅর্টিক অ্যানিউরিজমের প্রমাণ আছে কি? start না',\n",
       " 'অর্টিক অ্যানিউরিজমের প্রমাণ আছে কি? ',\n",
       " 'অর্টিক অ্যানিউরিজমের প্রমাণ আছে কি? start',\n",
       " 'অর্টিক অ্যানিউরিজমের প্রমাণ আছে কি? start হ্যাঁ',\n",
       " 'এই ছবিতে প্যাথলজি কোথায়? ',\n",
       " 'এই ছবিতে প্যাথলজি কোথায়? start',\n",
       " 'এই ছবিতে প্যাথলজি কোথায়? start রক্তনালী',\n",
       " 'কিভাবে রোগী ওরিয়েন্টেড হয়? ',\n",
       " 'কিভাবে রোগী ওরিয়েন্টেড হয়? start',\n",
       " 'কিভাবে রোগী ওরিয়েন্টেড হয়? start পোস্টেরিয়র',\n",
       " 'কিভাবে রোগী ওরিয়েন্টেড হয়? start পোস্টেরিয়র অ্যান্টেরিয়র',\n",
       " 'শ্বাসনালী কি মধ্যরেখায়? ',\n",
       " 'শ্বাসনালী কি মধ্যরেখায়? start',\n",
       " 'শ্বাসনালী কি মধ্যরেখায়? start হ্যাঁ']"
      ]
     },
     "execution_count": 24,
     "metadata": {},
     "output_type": "execute_result"
    }
   ],
   "source": [
    "train_dataset['question']"
   ]
  },
  {
   "cell_type": "code",
   "execution_count": 25,
   "id": "8e708fc4",
   "metadata": {},
   "outputs": [
    {
     "data": {
      "text/plain": [
       "Dataset({\n",
       "    features: ['image', 'question', 'answer'],\n",
       "    num_rows: 3\n",
       "})"
      ]
     },
     "execution_count": 25,
     "metadata": {},
     "output_type": "execute_result"
    }
   ],
   "source": [
    "validation_dataset=validation_dataset['train']\n",
    "validation_dataset"
   ]
  },
  {
   "cell_type": "code",
   "execution_count": 26,
   "id": "cdbf1e4a",
   "metadata": {},
   "outputs": [
    {
     "data": {
      "text/plain": [
       "Dataset({\n",
       "    features: ['image', 'question'],\n",
       "    num_rows: 3\n",
       "})"
      ]
     },
     "execution_count": 26,
     "metadata": {},
     "output_type": "execute_result"
    }
   ],
   "source": [
    "test_dataset=test_dataset['train']\n",
    "test_dataset"
   ]
  },
  {
   "cell_type": "markdown",
   "id": "4a246908",
   "metadata": {},
   "source": [
    "# Main code\n"
   ]
  },
  {
   "cell_type": "code",
   "execution_count": 27,
   "id": "d0406df6",
   "metadata": {},
   "outputs": [
    {
     "data": {
      "application/vnd.jupyter.widget-view+json": {
       "model_id": "683b0313c7af4861b71f0a72efa43b81",
       "version_major": 2,
       "version_minor": 0
      },
      "text/plain": [
       "tokenizer_config.json:   0%|          | 0.00/119 [00:00<?, ?B/s]"
      ]
     },
     "metadata": {},
     "output_type": "display_data"
    },
    {
     "name": "stderr",
     "output_type": "stream",
     "text": [
      "C:\\Users\\user\\AppData\\Roaming\\Python\\Python39\\site-packages\\huggingface_hub\\file_download.py:149: UserWarning: `huggingface_hub` cache-system uses symlinks by default to efficiently store duplicated files but your machine does not support them in C:\\Users\\user\\.cache\\huggingface\\hub\\models--csebuetnlp--banglabert. Caching files will still work but in a degraded version that might require more space on your disk. This warning can be disabled by setting the `HF_HUB_DISABLE_SYMLINKS_WARNING` environment variable. For more details, see https://huggingface.co/docs/huggingface_hub/how-to-cache#limitations.\n",
      "To support symlinks on Windows, you either need to activate Developer Mode or to run Python as an administrator. In order to see activate developer mode, see this article: https://docs.microsoft.com/en-us/windows/apps/get-started/enable-your-device-for-development\n",
      "  warnings.warn(message)\n"
     ]
    },
    {
     "data": {
      "application/vnd.jupyter.widget-view+json": {
       "model_id": "0048a4a0067f4117bb52c3c57b955c9f",
       "version_major": 2,
       "version_minor": 0
      },
      "text/plain": [
       "config.json:   0%|          | 0.00/586 [00:00<?, ?B/s]"
      ]
     },
     "metadata": {},
     "output_type": "display_data"
    },
    {
     "data": {
      "application/vnd.jupyter.widget-view+json": {
       "model_id": "1b9a19ab7b8941b69ad65ddc482dea21",
       "version_major": 2,
       "version_minor": 0
      },
      "text/plain": [
       "vocab.txt:   0%|          | 0.00/528k [00:00<?, ?B/s]"
      ]
     },
     "metadata": {},
     "output_type": "display_data"
    },
    {
     "data": {
      "application/vnd.jupyter.widget-view+json": {
       "model_id": "9f9dcb694ef54988a377d278ec9787e6",
       "version_major": 2,
       "version_minor": 0
      },
      "text/plain": [
       "special_tokens_map.json:   0%|          | 0.00/112 [00:00<?, ?B/s]"
      ]
     },
     "metadata": {},
     "output_type": "display_data"
    },
    {
     "data": {
      "application/vnd.jupyter.widget-view+json": {
       "model_id": "5d0d8573b46245198a9a7d24332ada6f",
       "version_major": 2,
       "version_minor": 0
      },
      "text/plain": [
       "preprocessor_config.json:   0%|          | 0.00/160 [00:00<?, ?B/s]"
      ]
     },
     "metadata": {},
     "output_type": "display_data"
    },
    {
     "name": "stderr",
     "output_type": "stream",
     "text": [
      "C:\\Users\\user\\AppData\\Roaming\\Python\\Python39\\site-packages\\huggingface_hub\\file_download.py:149: UserWarning: `huggingface_hub` cache-system uses symlinks by default to efficiently store duplicated files but your machine does not support them in C:\\Users\\user\\.cache\\huggingface\\hub\\models--google--vit-base-patch16-224-in21k. Caching files will still work but in a degraded version that might require more space on your disk. This warning can be disabled by setting the `HF_HUB_DISABLE_SYMLINKS_WARNING` environment variable. For more details, see https://huggingface.co/docs/huggingface_hub/how-to-cache#limitations.\n",
      "To support symlinks on Windows, you either need to activate Developer Mode or to run Python as an administrator. In order to see activate developer mode, see this article: https://docs.microsoft.com/en-us/windows/apps/get-started/enable-your-device-for-development\n",
      "  warnings.warn(message)\n"
     ]
    }
   ],
   "source": [
    "from transformers import AutoTokenizer,ViTImageProcessor\n",
    "text_processor = AutoTokenizer.from_pretrained(\"csebuetnlp/banglabert\")\n",
    "image_processor = ViTImageProcessor.from_pretrained(\"google/vit-base-patch16-224-in21k\")\n",
    "vocab_size=len(tokenizer.word_index)+1"
   ]
  },
  {
   "cell_type": "code",
   "execution_count": 28,
   "id": "3a42a0ba",
   "metadata": {},
   "outputs": [],
   "source": [
    "import torch\n",
    "class VQADataset(torch.utils.data.Dataset):\n",
    "    def __init__(self, data, segment, text_processor, image_processor,vocab_size):\n",
    "        self.data = data\n",
    "        self.questions = data['question']\n",
    "        self.answers = data['answer']\n",
    "        self.text_processor = text_processor\n",
    "        self.image_processor = image_processor\n",
    "        self.max_length = 32\n",
    "        self.image_height = 224\n",
    "        self.image_width = 224\n",
    "        self.vocab_size = vocab_size\n",
    "\n",
    "    def __len__(self):\n",
    "        return len(self.data)\n",
    "\n",
    "    def __getitem__(self, idx):\n",
    "        # get image + text\n",
    "        answers = self.answers[idx]\n",
    "        questions = self.questions[idx]\n",
    "        image_path = self.data[idx]['image']\n",
    "        image = Image.open(image_path)\n",
    "        text = self.questions[idx]\n",
    "\n",
    "        image_encoding = self.image_processor(image,\n",
    "                                  do_resize=True,\n",
    "                                  size=(self.image_height,self.image_width),\n",
    "                                  return_tensors=\"pt\")\n",
    "\n",
    "        encoding = self.text_processor(\n",
    "                                  text,\n",
    "                                  padding=\"max_length\",\n",
    "                                  truncation=True,\n",
    "                                  max_length = self.max_length,\n",
    "                                  return_tensors=\"pt\"\n",
    "                                  )\n",
    "        # # remove batch dimension\n",
    "        for k,v in encoding.items():\n",
    "            encoding[k] = v.squeeze()\n",
    "        encoding[\"pixel_values\"] = image_encoding[\"pixel_values\"][0]\n",
    "        # # add labels\n",
    "        seq=tokenizer.texts_to_sequences([answers])[0]\n",
    "        seq = to_categorical([seq], num_classes=vocab_size)[0]\n",
    "        encoding[\"labels\"] = torch.tensor(seq)\n",
    "\n",
    "        return encoding"
   ]
  },
  {
   "cell_type": "code",
   "execution_count": 29,
   "id": "cb773ec5",
   "metadata": {},
   "outputs": [],
   "source": [
    "train_vqa_dataset = VQADataset(data=train_dataset,\n",
    "                     segment='train',\n",
    "                     text_processor = text_processor,\n",
    "                     image_processor = image_processor,\n",
    "                     vocab_size = vocab_size)"
   ]
  },
  {
   "cell_type": "code",
   "execution_count": 30,
   "id": "e38fcc1f",
   "metadata": {},
   "outputs": [
    {
     "data": {
      "text/plain": [
       "{'input_ids': tensor([    2,  1873,   817,   990,  8714,  7740,  3167, 15976, 21642,  3180,\n",
       "           35,     3,     0,     0,     0,     0,     0,     0,     0,     0,\n",
       "            0,     0,     0,     0,     0,     0,     0,     0,     0,     0,\n",
       "            0,     0]), 'token_type_ids': tensor([0, 0, 0, 0, 0, 0, 0, 0, 0, 0, 0, 0, 0, 0, 0, 0, 0, 0, 0, 0, 0, 0, 0, 0,\n",
       "        0, 0, 0, 0, 0, 0, 0, 0]), 'attention_mask': tensor([1, 1, 1, 1, 1, 1, 1, 1, 1, 1, 1, 1, 0, 0, 0, 0, 0, 0, 0, 0, 0, 0, 0, 0,\n",
       "        0, 0, 0, 0, 0, 0, 0, 0]), 'pixel_values': tensor([[[-1.0000, -1.0000, -1.0000,  ..., -1.0000, -1.0000, -1.0000],\n",
       "         [-1.0000, -1.0000, -1.0000,  ..., -0.8902, -0.9922, -1.0000],\n",
       "         [-0.9922, -0.9922, -0.9529,  ..., -0.7569, -0.9922, -1.0000],\n",
       "         ...,\n",
       "         [-1.0000, -0.9922, -0.9765,  ..., -1.0000, -1.0000, -1.0000],\n",
       "         [-0.9922, -0.9922, -0.9922,  ..., -0.9922, -0.9922, -0.9922],\n",
       "         [-0.9922, -0.9922, -0.9922,  ..., -0.9922, -0.9922, -0.9922]],\n",
       "\n",
       "        [[-1.0000, -1.0000, -1.0000,  ..., -1.0000, -1.0000, -1.0000],\n",
       "         [-1.0000, -1.0000, -1.0000,  ..., -0.8902, -0.9922, -1.0000],\n",
       "         [-0.9922, -0.9922, -0.9529,  ..., -0.7569, -0.9922, -1.0000],\n",
       "         ...,\n",
       "         [-1.0000, -0.9922, -0.9765,  ..., -1.0000, -1.0000, -1.0000],\n",
       "         [-0.9922, -0.9922, -0.9922,  ..., -0.9922, -0.9922, -0.9922],\n",
       "         [-0.9922, -0.9922, -0.9922,  ..., -0.9922, -0.9922, -0.9922]],\n",
       "\n",
       "        [[-1.0000, -1.0000, -1.0000,  ..., -1.0000, -1.0000, -1.0000],\n",
       "         [-1.0000, -1.0000, -1.0000,  ..., -0.8902, -0.9922, -1.0000],\n",
       "         [-0.9922, -0.9922, -0.9529,  ..., -0.7569, -0.9922, -1.0000],\n",
       "         ...,\n",
       "         [-1.0000, -0.9922, -0.9765,  ..., -1.0000, -1.0000, -1.0000],\n",
       "         [-0.9922, -0.9922, -0.9922,  ..., -0.9922, -0.9922, -0.9922],\n",
       "         [-0.9922, -0.9922, -0.9922,  ..., -0.9922, -0.9922, -0.9922]]]), 'labels': tensor([0., 0., 0., 0., 0., 0., 0., 0., 0., 0., 0., 0., 0., 0., 0., 0., 0., 0.,\n",
       "        0., 0., 0., 0., 0., 0., 0., 0., 0., 0., 0., 0., 0., 0., 0., 0., 0., 0.,\n",
       "        0., 0., 0., 0., 0., 0., 0., 0., 0., 0., 0., 0., 0., 0., 0., 0., 0., 0.,\n",
       "        0., 0., 0., 0., 0., 0., 0., 0., 0., 0., 0., 0., 0., 0., 0., 0., 0., 0.,\n",
       "        0., 0., 0., 0., 0., 0., 0., 0., 0., 0., 0., 1., 0.])}"
      ]
     },
     "execution_count": 30,
     "metadata": {},
     "output_type": "execute_result"
    }
   ],
   "source": [
    "train_vqa_dataset[0]"
   ]
  },
  {
   "cell_type": "code",
   "execution_count": 67,
   "id": "66c0be3c",
   "metadata": {},
   "outputs": [],
   "source": [
    "# from tensorflow.keras.utils import to_categorical\n",
    "# def ques(example):\n",
    "#     text=example['question']\n",
    "#     tx=text_processor(\n",
    "#                                   text,\n",
    "#                                   padding=\"max_length\",\n",
    "#                                   truncation=True,\n",
    "#                                   max_length = 32,\n",
    "#                                   return_tensors=\"pt\"\n",
    "#                                   )\n",
    "#     image_path=example['image']\n",
    "#     image = Image.open(image_path)\n",
    "#     im=image_processor(image,\n",
    "#                                   do_resize=True,\n",
    "#                                   size=(128,128),\n",
    "#                                   return_tensors=\"pt\")\n",
    "#     text = example['answer']\n",
    "    \n",
    "#     seq=tokenizer.texts_to_sequences([text])[0]\n",
    "   \n",
    "\n",
    "#     seq = to_categorical([seq], num_classes=vocab_size)[0]\n",
    "#     return {\n",
    "#         'input_ids':tx['input_ids'] ,\n",
    "#         'token_type_ids':tx['token_type_ids'],\n",
    "#         'attention_mask':tx['attention_mask'],\n",
    "#         'pixel_values':im['pixel_values'],\n",
    "#         'labels': seq\n",
    "#     }\n",
    "    \n",
    "\n"
   ]
  },
  {
   "cell_type": "code",
   "execution_count": 68,
   "id": "8eeedd2a",
   "metadata": {},
   "outputs": [],
   "source": [
    "# vocab_size=len(tokenizer.word_index)+1\n",
    "# # final=train_dataset.map(ques)"
   ]
  },
  {
   "cell_type": "code",
   "execution_count": 31,
   "id": "fa11ee89",
   "metadata": {},
   "outputs": [],
   "source": [
    "from torch.utils.data import DataLoader\n",
    "def collate_fn(batch):\n",
    "    input_ids = [item['input_ids'] for item in batch]\n",
    "    pixel_values = [item['pixel_values'] for item in batch]\n",
    "    attention_mask = [item['attention_mask'] for item in batch]\n",
    "    labels = [item['labels'] for item in batch]\n",
    "    # create new batch\n",
    "    batch = {}\n",
    "    batch['input_ids'] = torch.stack(input_ids)\n",
    "    batch['attention_mask'] = torch.stack(attention_mask)\n",
    "    batch['pixel_values'] = torch.stack(pixel_values)\n",
    "    batch['labels'] = torch.stack(labels)\n",
    "    \n",
    "    return batch\n",
    "\n",
    "train_dataloader = DataLoader(train_vqa_dataset,\n",
    "                              collate_fn=collate_fn,\n",
    "                              batch_size=64,\n",
    "                              shuffle=False)\n"
   ]
  },
  {
   "cell_type": "code",
   "execution_count": 32,
   "id": "2a904c4e",
   "metadata": {
    "scrolled": false
   },
   "outputs": [],
   "source": [
    "# batch = next(iter(train_dataloader))\n",
    "# for k,v in batch.items():\n",
    "#     print(k, v.shape)"
   ]
  },
  {
   "cell_type": "code",
   "execution_count": 33,
   "id": "13293831",
   "metadata": {},
   "outputs": [],
   "source": [
    "image_mean = image_processor.image_mean\n",
    "image_std = image_processor.image_std"
   ]
  },
  {
   "cell_type": "code",
   "execution_count": 34,
   "id": "aac4f36f",
   "metadata": {},
   "outputs": [],
   "source": [
    "# batch_idx = 0\n",
    "\n",
    "# unnormalized_image = (batch[\"pixel_values\"][batch_idx].cpu().numpy() * np.array(image_std)[:, None, None]) + np.array(image_mean)[:, None, None]\n",
    "# unnormalized_image = np.moveaxis(unnormalized_image, 0, -1)\n",
    "# unnormalized_image = (unnormalized_image * 255).astype(np.uint8)\n",
    "\n",
    "# print(\"Question: \",text_processor.decode(batch[\"input_ids\"][batch_idx]))\n",
    "\n",
    "# plt.imshow(Image.fromarray(unnormalized_image))"
   ]
  },
  {
   "cell_type": "code",
   "execution_count": 35,
   "id": "4978980a",
   "metadata": {},
   "outputs": [
    {
     "name": "stdout",
     "output_type": "stream",
     "text": [
      "85\n"
     ]
    }
   ],
   "source": [
    "vocab_size=len(tokenizer.word_index)+1\n",
    "print(vocab_size)"
   ]
  },
  {
   "cell_type": "code",
   "execution_count": 36,
   "id": "a783b8e7",
   "metadata": {},
   "outputs": [],
   "source": [
    "from torch import nn, optim\n",
    "vocab_size=len(tokenizer.word_index)+1\n",
    "from transformers import AutoModel,BertModel\n",
    "img_check=\"google/vit-base-patch16-224-in21k\"\n",
    "text_check=\"csebuetnlp/banglabert\"\n",
    "class Vqa_model(nn.Module):\n",
    "\n",
    "    def __init__(self, n_classes,intermediate_dim):\n",
    "        super(Vqa_model, self).__init__()\n",
    "        self.bert = AutoModel.from_pretrained(text_check)\n",
    "        self.vit = AutoModel.from_pretrained(img_check)\n",
    "        self.fusion = nn.Sequential(\n",
    "            nn.Linear(self.bert.config.hidden_size + self.vit.config.hidden_size, intermediate_dim),\n",
    "            nn.ReLU(),\n",
    "            nn.Dropout(0.5),\n",
    "        )\n",
    "        \n",
    "        self.classifier = nn.Linear(intermediate_dim, n_classes)\n",
    "        self.criterion = nn.CrossEntropyLoss()\n",
    "\n",
    "    def forward(self, input_ids, attention_mask,pixel_values,labels):\n",
    "        encoded_text = self.bert(\n",
    "            input_ids = input_ids,\n",
    "            attention_mask = attention_mask\n",
    "        )\n",
    "        encoded_image =self.vit(pixel_values=pixel_values) \n",
    "        fused_output = self.fusion(\n",
    "            torch.cat(\n",
    "                [\n",
    "                    encoded_text['pooler_output'],\n",
    "                    encoded_image['pooler_output'],\n",
    "                ],\n",
    "                dim=1\n",
    "            )\n",
    "        )\n",
    "        logits = self.classifier(fused_output)\n",
    "\n",
    "        out = {\n",
    "            \"logits\": logits\n",
    "        }\n",
    "        if labels is not None:\n",
    "            loss = self.criterion(logits, labels)\n",
    "            out[\"loss\"] = loss\n",
    "        \n",
    "        return out"
   ]
  },
  {
   "cell_type": "code",
   "execution_count": 37,
   "id": "afd85303",
   "metadata": {},
   "outputs": [
    {
     "data": {
      "application/vnd.jupyter.widget-view+json": {
       "model_id": "e66ddb3dd182470eabf9b7ab2673091a",
       "version_major": 2,
       "version_minor": 0
      },
      "text/plain": [
       "pytorch_model.bin:   0%|          | 0.00/443M [00:00<?, ?B/s]"
      ]
     },
     "metadata": {},
     "output_type": "display_data"
    },
    {
     "data": {
      "application/vnd.jupyter.widget-view+json": {
       "model_id": "76819b16ffec4171b21e03e36e026b5d",
       "version_major": 2,
       "version_minor": 0
      },
      "text/plain": [
       "config.json:   0%|          | 0.00/502 [00:00<?, ?B/s]"
      ]
     },
     "metadata": {},
     "output_type": "display_data"
    },
    {
     "data": {
      "application/vnd.jupyter.widget-view+json": {
       "model_id": "8566f570c9664f1196541218b8d6875d",
       "version_major": 2,
       "version_minor": 0
      },
      "text/plain": [
       "model.safetensors:   0%|          | 0.00/346M [00:00<?, ?B/s]"
      ]
     },
     "metadata": {},
     "output_type": "display_data"
    }
   ],
   "source": [
    "model = Vqa_model(vocab_size,512)"
   ]
  },
  {
   "cell_type": "code",
   "execution_count": 90,
   "id": "59fd75c7",
   "metadata": {},
   "outputs": [
    {
     "data": {
      "text/plain": [
       "Vqa_model(\n",
       "  (bert): ElectraModel(\n",
       "    (embeddings): ElectraEmbeddings(\n",
       "      (word_embeddings): Embedding(32000, 768, padding_idx=0)\n",
       "      (position_embeddings): Embedding(512, 768)\n",
       "      (token_type_embeddings): Embedding(2, 768)\n",
       "      (LayerNorm): LayerNorm((768,), eps=1e-12, elementwise_affine=True)\n",
       "      (dropout): Dropout(p=0.1, inplace=False)\n",
       "    )\n",
       "    (encoder): ElectraEncoder(\n",
       "      (layer): ModuleList(\n",
       "        (0-11): 12 x ElectraLayer(\n",
       "          (attention): ElectraAttention(\n",
       "            (self): ElectraSelfAttention(\n",
       "              (query): Linear(in_features=768, out_features=768, bias=True)\n",
       "              (key): Linear(in_features=768, out_features=768, bias=True)\n",
       "              (value): Linear(in_features=768, out_features=768, bias=True)\n",
       "              (dropout): Dropout(p=0.1, inplace=False)\n",
       "            )\n",
       "            (output): ElectraSelfOutput(\n",
       "              (dense): Linear(in_features=768, out_features=768, bias=True)\n",
       "              (LayerNorm): LayerNorm((768,), eps=1e-12, elementwise_affine=True)\n",
       "              (dropout): Dropout(p=0.1, inplace=False)\n",
       "            )\n",
       "          )\n",
       "          (intermediate): ElectraIntermediate(\n",
       "            (dense): Linear(in_features=768, out_features=3072, bias=True)\n",
       "            (intermediate_act_fn): GELUActivation()\n",
       "          )\n",
       "          (output): ElectraOutput(\n",
       "            (dense): Linear(in_features=3072, out_features=768, bias=True)\n",
       "            (LayerNorm): LayerNorm((768,), eps=1e-12, elementwise_affine=True)\n",
       "            (dropout): Dropout(p=0.1, inplace=False)\n",
       "          )\n",
       "        )\n",
       "      )\n",
       "    )\n",
       "  )\n",
       "  (vit): ViTModel(\n",
       "    (embeddings): ViTEmbeddings(\n",
       "      (patch_embeddings): ViTPatchEmbeddings(\n",
       "        (projection): Conv2d(3, 768, kernel_size=(16, 16), stride=(16, 16))\n",
       "      )\n",
       "      (dropout): Dropout(p=0.0, inplace=False)\n",
       "    )\n",
       "    (encoder): ViTEncoder(\n",
       "      (layer): ModuleList(\n",
       "        (0-11): 12 x ViTLayer(\n",
       "          (attention): ViTAttention(\n",
       "            (attention): ViTSelfAttention(\n",
       "              (query): Linear(in_features=768, out_features=768, bias=True)\n",
       "              (key): Linear(in_features=768, out_features=768, bias=True)\n",
       "              (value): Linear(in_features=768, out_features=768, bias=True)\n",
       "              (dropout): Dropout(p=0.0, inplace=False)\n",
       "            )\n",
       "            (output): ViTSelfOutput(\n",
       "              (dense): Linear(in_features=768, out_features=768, bias=True)\n",
       "              (dropout): Dropout(p=0.0, inplace=False)\n",
       "            )\n",
       "          )\n",
       "          (intermediate): ViTIntermediate(\n",
       "            (dense): Linear(in_features=768, out_features=3072, bias=True)\n",
       "            (intermediate_act_fn): GELUActivation()\n",
       "          )\n",
       "          (output): ViTOutput(\n",
       "            (dense): Linear(in_features=3072, out_features=768, bias=True)\n",
       "            (dropout): Dropout(p=0.0, inplace=False)\n",
       "          )\n",
       "          (layernorm_before): LayerNorm((768,), eps=1e-12, elementwise_affine=True)\n",
       "          (layernorm_after): LayerNorm((768,), eps=1e-12, elementwise_affine=True)\n",
       "        )\n",
       "      )\n",
       "    )\n",
       "    (layernorm): LayerNorm((768,), eps=1e-12, elementwise_affine=True)\n",
       "    (pooler): ViTPooler(\n",
       "      (dense): Linear(in_features=768, out_features=768, bias=True)\n",
       "      (activation): Tanh()\n",
       "    )\n",
       "  )\n",
       "  (fusion): Sequential(\n",
       "    (0): Linear(in_features=1536, out_features=512, bias=True)\n",
       "    (1): ReLU()\n",
       "    (2): Dropout(p=0.5, inplace=False)\n",
       "  )\n",
       "  (classifier): Linear(in_features=512, out_features=85, bias=True)\n",
       "  (criterion): CrossEntropyLoss()\n",
       ")"
      ]
     },
     "execution_count": 90,
     "metadata": {},
     "output_type": "execute_result"
    }
   ],
   "source": [
    "model"
   ]
  },
  {
   "cell_type": "code",
   "execution_count": 78,
   "id": "e63622d4",
   "metadata": {},
   "outputs": [],
   "source": [
    "# import torch.nn as nn\n",
    "# vocab_size=len(tokenizer.word_index)+1\n",
    "# class MultimodalVQAModel(nn.Module):\n",
    "#     def __init__(\n",
    "#             self,\n",
    "#             num_labels: int = vocab_size,\n",
    "#             intermediate_dim: int = 512,\n",
    "#             pretrained_text_name: str = 'bert-base-uncased',\n",
    "#             pretrained_image_name: str = 'google/vit-base-patch16-224-in21k'):\n",
    "     \n",
    "#         super(MultimodalVQAModel, self).__init__()\n",
    "#         self.num_labels = num_labels\n",
    "#         self.pretrained_text_name = pretrained_text_name\n",
    "#         self.pretrained_image_name = pretrained_image_name\n",
    "        \n",
    "#         self.text_encoder = AutoModel.from_pretrained(\n",
    "#             self.pretrained_text_name,\n",
    "#         )\n",
    "#         self.image_encoder = AutoModel.from_pretrained(\n",
    "#             self.pretrained_image_name,\n",
    "#         )\n",
    "#         self.fusion = nn.Sequential(\n",
    "#             nn.Linear(self.text_encoder.config.hidden_size + self.image_encoder.config.hidden_size, intermediate_dim),\n",
    "#             nn.ReLU(),\n",
    "#             nn.Dropout(0.5),\n",
    "#         )\n",
    "        \n",
    "#         self.classifier = nn.Linear(intermediate_dim, self.vocab_size)\n",
    "        \n",
    "#         self.criterion = nn.CrossEntropyLoss()\n",
    "    \n",
    "#     def forward(self, input_ids, attention_mask, pixel_values):\n",
    "        \n",
    "#         encoded_text = self.text_encoder(\n",
    "#             input_ids=input_ids,\n",
    "#             attention_mask=attention_mask,\n",
    "#             token_type_ids=token_type_ids,\n",
    "#             return_dict=True,\n",
    "#         )\n",
    "#         encoded_image = self.image_encoder(\n",
    "#             pixel_values=pixel_values,\n",
    "#             return_dict=True,\n",
    "#         )\n",
    "#         fused_output = self.fusion(\n",
    "#             torch.cat(\n",
    "#                 [\n",
    "#                     encoded_text['pooler_output'],\n",
    "#                     encoded_image['pooler_output'],\n",
    "#                 ],\n",
    "#                 dim=1\n",
    "#             )\n",
    "#         )\n",
    "#         logits = self.classifier(fused_output)\n",
    "        \n",
    "#         return {\n",
    "#             \"logits\": logits\n",
    "#         }\n",
    "        "
   ]
  },
  {
   "cell_type": "code",
   "execution_count": 38,
   "id": "bd22dcf8",
   "metadata": {},
   "outputs": [],
   "source": [
    "from transformers import AutoModel,get_scheduler\n",
    "from sklearn.metrics import f1_score\n",
    "\n",
    "optimizer = torch.optim.AdamW(model.parameters(), lr=5e-5)\n",
    "\n"
   ]
  },
  {
   "cell_type": "code",
   "execution_count": 39,
   "id": "44f64ba7",
   "metadata": {},
   "outputs": [
    {
     "name": "stdout",
     "output_type": "stream",
     "text": [
      "Epoch: 0\n"
     ]
    },
    {
     "data": {
      "application/vnd.jupyter.widget-view+json": {
       "model_id": "861206cb2f874685a044118af2088e49",
       "version_major": 2,
       "version_minor": 0
      },
      "text/plain": [
       "  0%|          | 0/2 [00:00<?, ?it/s]"
      ]
     },
     "metadata": {},
     "output_type": "display_data"
    },
    {
     "ename": "RuntimeError",
     "evalue": "stack expects each tensor to be equal size, but got [85] at entry 0 and [2, 85] at entry 21",
     "output_type": "error",
     "traceback": [
      "\u001b[1;31m---------------------------------------------------------------------------\u001b[0m",
      "\u001b[1;31mRuntimeError\u001b[0m                              Traceback (most recent call last)",
      "\u001b[1;32m~\\AppData\\Local\\Temp\\ipykernel_23388\\3841460357.py\u001b[0m in \u001b[0;36m<module>\u001b[1;34m\u001b[0m\n\u001b[0;32m      5\u001b[0m     \u001b[0mprint\u001b[0m\u001b[1;33m(\u001b[0m\u001b[1;34mf\"Epoch: {epoch}\"\u001b[0m\u001b[1;33m)\u001b[0m\u001b[1;33m\u001b[0m\u001b[1;33m\u001b[0m\u001b[0m\n\u001b[0;32m      6\u001b[0m     \u001b[0mtotal_loss\u001b[0m \u001b[1;33m=\u001b[0m \u001b[1;33m[\u001b[0m\u001b[1;33m]\u001b[0m\u001b[1;33m\u001b[0m\u001b[1;33m\u001b[0m\u001b[0m\n\u001b[1;32m----> 7\u001b[1;33m     \u001b[1;32mfor\u001b[0m \u001b[0mbatch\u001b[0m \u001b[1;32min\u001b[0m \u001b[0mtqdm\u001b[0m\u001b[1;33m(\u001b[0m\u001b[0mtrain_dataloader\u001b[0m\u001b[1;33m)\u001b[0m\u001b[1;33m:\u001b[0m\u001b[1;33m\u001b[0m\u001b[1;33m\u001b[0m\u001b[0m\n\u001b[0m\u001b[0;32m      8\u001b[0m         \u001b[1;31m# get the inputs;\u001b[0m\u001b[1;33m\u001b[0m\u001b[1;33m\u001b[0m\u001b[0m\n\u001b[0;32m      9\u001b[0m         \u001b[0minput_ids\u001b[0m \u001b[1;33m=\u001b[0m \u001b[0mbatch\u001b[0m\u001b[1;33m[\u001b[0m\u001b[1;34m'input_ids'\u001b[0m\u001b[1;33m]\u001b[0m\u001b[1;33m\u001b[0m\u001b[1;33m\u001b[0m\u001b[0m\n",
      "\u001b[1;32mC:\\ProgramData\\Anaconda3\\lib\\site-packages\\tqdm\\notebook.py\u001b[0m in \u001b[0;36m__iter__\u001b[1;34m(self)\u001b[0m\n\u001b[0;32m    257\u001b[0m         \u001b[1;32mtry\u001b[0m\u001b[1;33m:\u001b[0m\u001b[1;33m\u001b[0m\u001b[1;33m\u001b[0m\u001b[0m\n\u001b[0;32m    258\u001b[0m             \u001b[0mit\u001b[0m \u001b[1;33m=\u001b[0m \u001b[0msuper\u001b[0m\u001b[1;33m(\u001b[0m\u001b[0mtqdm_notebook\u001b[0m\u001b[1;33m,\u001b[0m \u001b[0mself\u001b[0m\u001b[1;33m)\u001b[0m\u001b[1;33m.\u001b[0m\u001b[0m__iter__\u001b[0m\u001b[1;33m(\u001b[0m\u001b[1;33m)\u001b[0m\u001b[1;33m\u001b[0m\u001b[1;33m\u001b[0m\u001b[0m\n\u001b[1;32m--> 259\u001b[1;33m             \u001b[1;32mfor\u001b[0m \u001b[0mobj\u001b[0m \u001b[1;32min\u001b[0m \u001b[0mit\u001b[0m\u001b[1;33m:\u001b[0m\u001b[1;33m\u001b[0m\u001b[1;33m\u001b[0m\u001b[0m\n\u001b[0m\u001b[0;32m    260\u001b[0m                 \u001b[1;31m# return super(tqdm...) will not catch exception\u001b[0m\u001b[1;33m\u001b[0m\u001b[1;33m\u001b[0m\u001b[0m\n\u001b[0;32m    261\u001b[0m                 \u001b[1;32myield\u001b[0m \u001b[0mobj\u001b[0m\u001b[1;33m\u001b[0m\u001b[1;33m\u001b[0m\u001b[0m\n",
      "\u001b[1;32mC:\\ProgramData\\Anaconda3\\lib\\site-packages\\tqdm\\std.py\u001b[0m in \u001b[0;36m__iter__\u001b[1;34m(self)\u001b[0m\n\u001b[0;32m   1193\u001b[0m \u001b[1;33m\u001b[0m\u001b[0m\n\u001b[0;32m   1194\u001b[0m         \u001b[1;32mtry\u001b[0m\u001b[1;33m:\u001b[0m\u001b[1;33m\u001b[0m\u001b[1;33m\u001b[0m\u001b[0m\n\u001b[1;32m-> 1195\u001b[1;33m             \u001b[1;32mfor\u001b[0m \u001b[0mobj\u001b[0m \u001b[1;32min\u001b[0m \u001b[0miterable\u001b[0m\u001b[1;33m:\u001b[0m\u001b[1;33m\u001b[0m\u001b[1;33m\u001b[0m\u001b[0m\n\u001b[0m\u001b[0;32m   1196\u001b[0m                 \u001b[1;32myield\u001b[0m \u001b[0mobj\u001b[0m\u001b[1;33m\u001b[0m\u001b[1;33m\u001b[0m\u001b[0m\n\u001b[0;32m   1197\u001b[0m                 \u001b[1;31m# Update and possibly print the progressbar.\u001b[0m\u001b[1;33m\u001b[0m\u001b[1;33m\u001b[0m\u001b[0m\n",
      "\u001b[1;32m~\\AppData\\Roaming\\Python\\Python39\\site-packages\\torch\\utils\\data\\dataloader.py\u001b[0m in \u001b[0;36m__next__\u001b[1;34m(self)\u001b[0m\n\u001b[0;32m    629\u001b[0m                 \u001b[1;31m# TODO(https://github.com/pytorch/pytorch/issues/76750)\u001b[0m\u001b[1;33m\u001b[0m\u001b[1;33m\u001b[0m\u001b[0m\n\u001b[0;32m    630\u001b[0m                 \u001b[0mself\u001b[0m\u001b[1;33m.\u001b[0m\u001b[0m_reset\u001b[0m\u001b[1;33m(\u001b[0m\u001b[1;33m)\u001b[0m  \u001b[1;31m# type: ignore[call-arg]\u001b[0m\u001b[1;33m\u001b[0m\u001b[1;33m\u001b[0m\u001b[0m\n\u001b[1;32m--> 631\u001b[1;33m             \u001b[0mdata\u001b[0m \u001b[1;33m=\u001b[0m \u001b[0mself\u001b[0m\u001b[1;33m.\u001b[0m\u001b[0m_next_data\u001b[0m\u001b[1;33m(\u001b[0m\u001b[1;33m)\u001b[0m\u001b[1;33m\u001b[0m\u001b[1;33m\u001b[0m\u001b[0m\n\u001b[0m\u001b[0;32m    632\u001b[0m             \u001b[0mself\u001b[0m\u001b[1;33m.\u001b[0m\u001b[0m_num_yielded\u001b[0m \u001b[1;33m+=\u001b[0m \u001b[1;36m1\u001b[0m\u001b[1;33m\u001b[0m\u001b[1;33m\u001b[0m\u001b[0m\n\u001b[0;32m    633\u001b[0m             \u001b[1;32mif\u001b[0m \u001b[0mself\u001b[0m\u001b[1;33m.\u001b[0m\u001b[0m_dataset_kind\u001b[0m \u001b[1;33m==\u001b[0m \u001b[0m_DatasetKind\u001b[0m\u001b[1;33m.\u001b[0m\u001b[0mIterable\u001b[0m \u001b[1;32mand\u001b[0m\u001b[0;31m \u001b[0m\u001b[0;31m\\\u001b[0m\u001b[1;33m\u001b[0m\u001b[1;33m\u001b[0m\u001b[0m\n",
      "\u001b[1;32m~\\AppData\\Roaming\\Python\\Python39\\site-packages\\torch\\utils\\data\\dataloader.py\u001b[0m in \u001b[0;36m_next_data\u001b[1;34m(self)\u001b[0m\n\u001b[0;32m    673\u001b[0m     \u001b[1;32mdef\u001b[0m \u001b[0m_next_data\u001b[0m\u001b[1;33m(\u001b[0m\u001b[0mself\u001b[0m\u001b[1;33m)\u001b[0m\u001b[1;33m:\u001b[0m\u001b[1;33m\u001b[0m\u001b[1;33m\u001b[0m\u001b[0m\n\u001b[0;32m    674\u001b[0m         \u001b[0mindex\u001b[0m \u001b[1;33m=\u001b[0m \u001b[0mself\u001b[0m\u001b[1;33m.\u001b[0m\u001b[0m_next_index\u001b[0m\u001b[1;33m(\u001b[0m\u001b[1;33m)\u001b[0m  \u001b[1;31m# may raise StopIteration\u001b[0m\u001b[1;33m\u001b[0m\u001b[1;33m\u001b[0m\u001b[0m\n\u001b[1;32m--> 675\u001b[1;33m         \u001b[0mdata\u001b[0m \u001b[1;33m=\u001b[0m \u001b[0mself\u001b[0m\u001b[1;33m.\u001b[0m\u001b[0m_dataset_fetcher\u001b[0m\u001b[1;33m.\u001b[0m\u001b[0mfetch\u001b[0m\u001b[1;33m(\u001b[0m\u001b[0mindex\u001b[0m\u001b[1;33m)\u001b[0m  \u001b[1;31m# may raise StopIteration\u001b[0m\u001b[1;33m\u001b[0m\u001b[1;33m\u001b[0m\u001b[0m\n\u001b[0m\u001b[0;32m    676\u001b[0m         \u001b[1;32mif\u001b[0m \u001b[0mself\u001b[0m\u001b[1;33m.\u001b[0m\u001b[0m_pin_memory\u001b[0m\u001b[1;33m:\u001b[0m\u001b[1;33m\u001b[0m\u001b[1;33m\u001b[0m\u001b[0m\n\u001b[0;32m    677\u001b[0m             \u001b[0mdata\u001b[0m \u001b[1;33m=\u001b[0m \u001b[0m_utils\u001b[0m\u001b[1;33m.\u001b[0m\u001b[0mpin_memory\u001b[0m\u001b[1;33m.\u001b[0m\u001b[0mpin_memory\u001b[0m\u001b[1;33m(\u001b[0m\u001b[0mdata\u001b[0m\u001b[1;33m,\u001b[0m \u001b[0mself\u001b[0m\u001b[1;33m.\u001b[0m\u001b[0m_pin_memory_device\u001b[0m\u001b[1;33m)\u001b[0m\u001b[1;33m\u001b[0m\u001b[1;33m\u001b[0m\u001b[0m\n",
      "\u001b[1;32m~\\AppData\\Roaming\\Python\\Python39\\site-packages\\torch\\utils\\data\\_utils\\fetch.py\u001b[0m in \u001b[0;36mfetch\u001b[1;34m(self, possibly_batched_index)\u001b[0m\n\u001b[0;32m     52\u001b[0m         \u001b[1;32melse\u001b[0m\u001b[1;33m:\u001b[0m\u001b[1;33m\u001b[0m\u001b[1;33m\u001b[0m\u001b[0m\n\u001b[0;32m     53\u001b[0m             \u001b[0mdata\u001b[0m \u001b[1;33m=\u001b[0m \u001b[0mself\u001b[0m\u001b[1;33m.\u001b[0m\u001b[0mdataset\u001b[0m\u001b[1;33m[\u001b[0m\u001b[0mpossibly_batched_index\u001b[0m\u001b[1;33m]\u001b[0m\u001b[1;33m\u001b[0m\u001b[1;33m\u001b[0m\u001b[0m\n\u001b[1;32m---> 54\u001b[1;33m         \u001b[1;32mreturn\u001b[0m \u001b[0mself\u001b[0m\u001b[1;33m.\u001b[0m\u001b[0mcollate_fn\u001b[0m\u001b[1;33m(\u001b[0m\u001b[0mdata\u001b[0m\u001b[1;33m)\u001b[0m\u001b[1;33m\u001b[0m\u001b[1;33m\u001b[0m\u001b[0m\n\u001b[0m",
      "\u001b[1;32m~\\AppData\\Local\\Temp\\ipykernel_23388\\2559018221.py\u001b[0m in \u001b[0;36mcollate_fn\u001b[1;34m(batch)\u001b[0m\n\u001b[0;32m     10\u001b[0m     \u001b[0mbatch\u001b[0m\u001b[1;33m[\u001b[0m\u001b[1;34m'attention_mask'\u001b[0m\u001b[1;33m]\u001b[0m \u001b[1;33m=\u001b[0m \u001b[0mtorch\u001b[0m\u001b[1;33m.\u001b[0m\u001b[0mstack\u001b[0m\u001b[1;33m(\u001b[0m\u001b[0mattention_mask\u001b[0m\u001b[1;33m)\u001b[0m\u001b[1;33m\u001b[0m\u001b[1;33m\u001b[0m\u001b[0m\n\u001b[0;32m     11\u001b[0m     \u001b[0mbatch\u001b[0m\u001b[1;33m[\u001b[0m\u001b[1;34m'pixel_values'\u001b[0m\u001b[1;33m]\u001b[0m \u001b[1;33m=\u001b[0m \u001b[0mtorch\u001b[0m\u001b[1;33m.\u001b[0m\u001b[0mstack\u001b[0m\u001b[1;33m(\u001b[0m\u001b[0mpixel_values\u001b[0m\u001b[1;33m)\u001b[0m\u001b[1;33m\u001b[0m\u001b[1;33m\u001b[0m\u001b[0m\n\u001b[1;32m---> 12\u001b[1;33m     \u001b[0mbatch\u001b[0m\u001b[1;33m[\u001b[0m\u001b[1;34m'labels'\u001b[0m\u001b[1;33m]\u001b[0m \u001b[1;33m=\u001b[0m \u001b[0mtorch\u001b[0m\u001b[1;33m.\u001b[0m\u001b[0mstack\u001b[0m\u001b[1;33m(\u001b[0m\u001b[0mlabels\u001b[0m\u001b[1;33m)\u001b[0m\u001b[1;33m\u001b[0m\u001b[1;33m\u001b[0m\u001b[0m\n\u001b[0m\u001b[0;32m     13\u001b[0m \u001b[1;33m\u001b[0m\u001b[0m\n\u001b[0;32m     14\u001b[0m     \u001b[1;32mreturn\u001b[0m \u001b[0mbatch\u001b[0m\u001b[1;33m\u001b[0m\u001b[1;33m\u001b[0m\u001b[0m\n",
      "\u001b[1;31mRuntimeError\u001b[0m: stack expects each tensor to be equal size, but got [85] at entry 0 and [2, 85] at entry 21"
     ]
    }
   ],
   "source": [
    "from tqdm.notebook import tqdm\n",
    "\n",
    "for epoch in range(3):\n",
    "    model = model.train()\n",
    "    print(f\"Epoch: {epoch}\")\n",
    "    total_loss = []\n",
    "    for batch in tqdm(train_dataloader):\n",
    "        # get the inputs;\n",
    "        input_ids = batch['input_ids']\n",
    "        attention_mask = batch['attention_mask']\n",
    "        pixel_values = batch['pixel_values']\n",
    "        targets = batch[\"labels\"]\n",
    "\n",
    "        # zero the parameter gradients\n",
    "        optimizer.zero_grad()\n",
    "        # forward + backward + optimize\n",
    "        outputs = model(input_ids = input_ids,attention_mask = attention_mask,\n",
    "          pixel_values=pixel_values,\n",
    "          labels=targets\n",
    "        )\n",
    "        loss = outputs['loss']\n",
    "        total_loss.append(loss.item())\n",
    "        loss.backward()\n",
    "        optimizer.step()\n",
    "    print(\"Loss:\", np.mean(total_loss))"
   ]
  },
  {
   "cell_type": "code",
   "execution_count": 141,
   "id": "44d3b476",
   "metadata": {},
   "outputs": [],
   "source": [
    " def funn(text):\n",
    "    return text_processor(\n",
    "                                  text,\n",
    "                                  padding=\"max_length\",\n",
    "                                  truncation=True,\n",
    "                                  max_length = 32,\n",
    "                                  return_tensors=\"pt\"\n",
    "                                  )"
   ]
  },
  {
   "cell_type": "code",
   "execution_count": 1,
   "id": "d8ad67d3",
   "metadata": {},
   "outputs": [],
   "source": [
    "# model = model.eval()\n",
    "# batch = train_vqa_dataset[0]\n",
    "\n",
    "# attention_mask = batch['attention_mask'].unsqueeze(0)  \n",
    "# pixel_values = batch['pixel_values'].unsqueeze(0)  \n",
    "# targets = None \n",
    "# text='what imaging modality was used to take this image?'\n",
    "\n",
    "# for i in range(5):\n",
    "    \n",
    "#     # Tokenize the initial question text\n",
    "#     tokenized_input = funn(text)\n",
    "#     input_ids = tokenized_input['input_ids'].unsqueeze(0)\n",
    "#     outputs = model(input_ids = input_ids,attention_mask = attention_mask,pixel_values=pixel_values,labels=targets)\n",
    "#     print(outputs['logits'].shape)\n",
    "#     max_index = torch.argmax(outputs['logits'], dim=1)\n",
    "#     print(max_index)\n",
    "            \n",
    "    \n",
    "    \n",
    "\n",
    "\n"
   ]
  },
  {
   "cell_type": "code",
   "execution_count": null,
   "id": "d3021c1a",
   "metadata": {},
   "outputs": [],
   "source": []
  },
  {
   "cell_type": "code",
   "execution_count": 142,
   "id": "378c4ad7",
   "metadata": {},
   "outputs": [],
   "source": [
    "def idx_to_word(integer, tokenizer):\n",
    "    for word, index in tokenizer.word_index.items():\n",
    "        if index == integer:\n",
    "            return word\n",
    "    return None"
   ]
  },
  {
   "cell_type": "code",
   "execution_count": 1,
   "id": "04a84fc2",
   "metadata": {},
   "outputs": [
    {
     "ename": "NameError",
     "evalue": "name 'model' is not defined",
     "output_type": "error",
     "traceback": [
      "\u001b[1;31m---------------------------------------------------------------------------\u001b[0m",
      "\u001b[1;31mNameError\u001b[0m                                 Traceback (most recent call last)",
      "\u001b[1;32m~\\AppData\\Local\\Temp\\ipykernel_8784\\1589279363.py\u001b[0m in \u001b[0;36m<module>\u001b[1;34m\u001b[0m\n\u001b[0;32m     11\u001b[0m \u001b[1;33m\u001b[0m\u001b[0m\n\u001b[0;32m     12\u001b[0m \u001b[1;31m# Switch model to evaluation mode\u001b[0m\u001b[1;33m\u001b[0m\u001b[1;33m\u001b[0m\u001b[0m\n\u001b[1;32m---> 13\u001b[1;33m \u001b[0mmodel\u001b[0m \u001b[1;33m=\u001b[0m \u001b[0mmodel\u001b[0m\u001b[1;33m.\u001b[0m\u001b[0meval\u001b[0m\u001b[1;33m(\u001b[0m\u001b[1;33m)\u001b[0m\u001b[1;33m\u001b[0m\u001b[1;33m\u001b[0m\u001b[0m\n\u001b[0m\u001b[0;32m     14\u001b[0m \u001b[1;33m\u001b[0m\u001b[0m\n\u001b[0;32m     15\u001b[0m \u001b[1;31m# Get a batch of data\u001b[0m\u001b[1;33m\u001b[0m\u001b[1;33m\u001b[0m\u001b[0m\n",
      "\u001b[1;31mNameError\u001b[0m: name 'model' is not defined"
     ]
    }
   ],
   "source": [
    "import torch\n",
    "\n",
    "def funn(text):\n",
    "    return text_processor(\n",
    "        text,\n",
    "        padding=\"max_length\",\n",
    "        truncation=True,\n",
    "        max_length=32,\n",
    "        return_tensors=\"pt\"\n",
    "    )\n",
    "\n",
    "# Switch model to evaluation mode\n",
    "model = model.eval()\n",
    "\n",
    "# Get a batch of data\n",
    "batch = train_vqa_dataset[0]\n",
    "\n",
    "# Unsqueeze the necessary tensors to add the batch dimension\n",
    "attention_mask = batch['attention_mask'].unsqueeze(0)  \n",
    "pixel_values = batch['pixel_values'].unsqueeze(0)  \n",
    "targets = None  # For inference, we don't need targets\n",
    "\n",
    "# Initialize text for the question\n",
    "imag = 'Img\\synpic29265.jpg'\n",
    "text = 'এটি কি বুকের এমআরআই?'\n",
    "\n",
    "\n",
    "for i in range(20):\n",
    "    # Tokenize the initial question text\n",
    "    tokenized_input = funn(text)\n",
    "    input_ids = tokenized_input['input_ids']  # shape: [1, seq_length]\n",
    "    \n",
    "\n",
    "    # Ensure input_ids and attention_mask have the correct shape\n",
    "    input_ids = input_ids.to(pixel_values.device)\n",
    "    attention_mask = attention_mask.to(pixel_values.device)\n",
    "\n",
    "    # Pass the inputs through the model\n",
    "    outputs = model(input_ids=input_ids, attention_mask=attention_mask, pixel_values=pixel_values, labels=targets)\n",
    "\n",
    "    # Get the logits\n",
    "    logits = outputs['logits']\n",
    "    print(logits.shape)\n",
    "\n",
    "    # Determine the maximum index (prediction)\n",
    "    max_index = torch.argmax(logits, dim=1)\n",
    "    print(max_index)\n",
    "    word = idx_to_word(max_index[0], tokenizer)\n",
    "    print(word)\n",
    "    text=text+\" \"+word\n",
    "    print(\"vvv\",text)\n",
    "    if(word=='end'):\n",
    "        break\n",
    "    \n",
    "\n",
    "    # Update text based on predictions if necessary (dummy update for demonstration)\n",
    "    # In a real scenario, you would likely use the predicted tokens to generate new text\n",
    "      # For demonstration, we keep the text the same\n"
   ]
  },
  {
   "cell_type": "code",
   "execution_count": null,
   "id": "0d1ef6bd",
   "metadata": {},
   "outputs": [],
   "source": [
    "\n",
    "model= model.eval(\n",
    "batch = train_vqa_dataset[0]\n",
    "# get the inputs;\n",
    "input_ids = batch['input_ids']\n",
    "attention_mask = batch['attention_mask']\n",
    "pixel_values = batch['pixel_values']\n",
    "targets = batch['labels']\n",
    "\n",
    "# zero the parameter gradients\n",
    "\n",
    "# forward + backward + optimize\n",
    "outputs = model(input_ids = input_ids,attention_mask = attention_mask,pixel_values=pixel_values,labels=targets)\n",
    "print(outputs['logits'].shape)\n",
    "max_index = torch.argmax(outputs['logits'], dim=1)\n",
    "print(max_index)\n",
    "    \n",
    "        \n",
    "    "
   ]
  },
  {
   "cell_type": "code",
   "execution_count": null,
   "id": "1b08f1ee",
   "metadata": {},
   "outputs": [],
   "source": []
  }
 ],
 "metadata": {
  "kernelspec": {
   "display_name": "Python 3 (ipykernel)",
   "language": "python",
   "name": "python3"
  },
  "language_info": {
   "codemirror_mode": {
    "name": "ipython",
    "version": 3
   },
   "file_extension": ".py",
   "mimetype": "text/x-python",
   "name": "python",
   "nbconvert_exporter": "python",
   "pygments_lexer": "ipython3",
   "version": "3.9.13"
  }
 },
 "nbformat": 4,
 "nbformat_minor": 5
}
